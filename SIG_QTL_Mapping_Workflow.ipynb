{
 "cells": [
  {
   "cell_type": "markdown",
   "metadata": {},
   "source": [
    "# Systems Immunogenetics Project\n",
    "\n",
    "## QTL Mapping Workflow\n",
    "\n",
    "### McWeeney Lab, Oregon Health & Science University\n",
    "\n",
    "#### Author: Michael Mooney (mooneymi@ohsu.edu)"
   ]
  },
  {
   "cell_type": "markdown",
   "metadata": {},
   "source": [
    "## Introduction\n",
    "\n",
    "This document will walk through the steps for mapping QTLs in the RIX lines.\n",
    "\n",
    "Required Files:\n",
    "\n",
    "1. This notebook** (`SIG_QTL_Mapping_Workflow.ipynb`): [[Download here]](https://raw.githubusercontent.com/biodev/SIG/master/SIG_QTL_Mapping_Workflow.ipynb)\n",
    "2. The R script `rix_qtl_mapping_functions.r`: [[Download here]](https://raw.githubusercontent.com/biodev/SIG/master/scripts/rix_qtl_mapping_functions.r)\n",
    "3. File for mapping between CC IDs and RIX IDs: \n",
    "    - File with Oas1b status for WNV mapping (`Oas1b_status_recoded.txt`)\n",
    "    - File with Mx1 status for Influenza mapping (`Mx1_status_recoded.txt`)\n",
    "\n",
    "** Note: this notebook can also be downloaded as an R script (only the code blocks seen below will be included): [[Download R script here]]\n",
    "\n",
    "Required R Libraries:\n",
    "\n",
    "1. `gdata`: [https://cran.r-project.org/web/packages/gdata/index.html](https://cran.r-project.org/web/packages/gdata/index.html)\n",
    "2. `DOQTL`: [https://www.bioconductor.org/packages/release/bioc/html/DOQTL.html](https://www.bioconductor.org/packages/release/bioc/html/DOQTL.html)\n",
    "3. `GenomicRanges`: [https://bioconductor.org/packages/release/bioc/html/GenomicRanges.html](https://bioconductor.org/packages/release/bioc/html/GenomicRanges.html)\n",
    "4. `VariantAnnotation`: [https://bioconductor.org/packages/release/bioc/html/VariantAnnotation.html](https://bioconductor.org/packages/release/bioc/html/VariantAnnotation.html)\n",
    "5. `foreach`: [https://cran.r-project.org/web/packages/foreach/index.html](https://cran.r-project.org/web/packages/foreach/index.html)\n",
    "6. `doParallel`: [https://cran.r-project.org/web/packages/doParallel/index.html](https://cran.r-project.org/web/packages/doParallel/index.html)\n",
    "7. `RColorBrewer`: [https://cran.r-project.org/web/packages/RColorBrewer/index.html](https://cran.r-project.org/web/packages/RColorBrewer/index.html)\n",
    "\n",
    "**All code is available on GitHub: [https://github.com/biodev/SIG](https://github.com/biodev/SIG)**"
   ]
  },
  {
   "cell_type": "markdown",
   "metadata": {},
   "source": [
    "## Step 1. Load Necessary R Functions and Libraries"
   ]
  },
  {
   "cell_type": "code",
   "execution_count": 1,
   "metadata": {
    "collapsed": false
   },
   "outputs": [
    {
     "name": "stderr",
     "output_type": "stream",
     "text": [
      "gdata: read.xls support for 'XLS' (Excel 97-2004) files ENABLED.\n",
      "\n",
      "gdata: read.xls support for 'XLSX' (Excel 2007+) files ENABLED.\n",
      "\n",
      "Attaching package: ‘gdata’\n",
      "\n",
      "The following object is masked from ‘package:stats’:\n",
      "\n",
      "    nobs\n",
      "\n",
      "The following object is masked from ‘package:utils’:\n",
      "\n",
      "    object.size\n",
      "\n",
      "Loading required package: BSgenome.Mmusculus.UCSC.mm10\n",
      "Loading required package: BSgenome\n",
      "Loading required package: BiocGenerics\n",
      "Loading required package: parallel\n",
      "\n",
      "Attaching package: ‘BiocGenerics’\n",
      "\n",
      "The following objects are masked from ‘package:parallel’:\n",
      "\n",
      "    clusterApply, clusterApplyLB, clusterCall, clusterEvalQ,\n",
      "    clusterExport, clusterMap, parApply, parCapply, parLapply,\n",
      "    parLapplyLB, parRapply, parSapply, parSapplyLB\n",
      "\n",
      "The following object is masked from ‘package:gdata’:\n",
      "\n",
      "    combine\n",
      "\n",
      "The following objects are masked from ‘package:stats’:\n",
      "\n",
      "    IQR, mad, xtabs\n",
      "\n",
      "The following objects are masked from ‘package:base’:\n",
      "\n",
      "    anyDuplicated, append, as.data.frame, as.vector, cbind, colnames,\n",
      "    do.call, duplicated, eval, evalq, Filter, Find, get, grep, grepl,\n",
      "    intersect, is.unsorted, lapply, lengths, Map, mapply, match, mget,\n",
      "    order, paste, pmax, pmax.int, pmin, pmin.int, Position, rank,\n",
      "    rbind, Reduce, rownames, sapply, setdiff, sort, table, tapply,\n",
      "    union, unique, unlist, unsplit\n",
      "\n",
      "Loading required package: S4Vectors\n",
      "Loading required package: stats4\n",
      "Loading required package: IRanges\n",
      "\n",
      "Attaching package: ‘IRanges’\n",
      "\n",
      "The following object is masked from ‘package:gdata’:\n",
      "\n",
      "    trim\n",
      "\n",
      "Loading required package: GenomeInfoDb\n",
      "Loading required package: GenomicRanges\n",
      "Loading required package: Biostrings\n",
      "Loading required package: XVector\n",
      "Loading required package: rtracklayer\n",
      "Loading required package: VariantAnnotation\n",
      "Loading required package: SummarizedExperiment\n",
      "Loading required package: Biobase\n",
      "Welcome to Bioconductor\n",
      "\n",
      "    Vignettes contain introductory material; view with\n",
      "    'browseVignettes()'. To cite Bioconductor, see\n",
      "    'citation(\"Biobase\")', and for packages 'citation(\"pkgname\")'.\n",
      "\n",
      "Loading required package: Rsamtools\n",
      "\n",
      "Attaching package: ‘VariantAnnotation’\n",
      "\n",
      "The following object is masked from ‘package:base’:\n",
      "\n",
      "    tabulate\n",
      "\n",
      "Loading required package: iterators\n"
     ]
    }
   ],
   "source": [
    "## Load R functions and libraries\n",
    "source('./scripts/rix_qtl_mapping_functions.r')"
   ]
  },
  {
   "cell_type": "markdown",
   "metadata": {},
   "source": [
    "## Step 2. Create Genome Cache\n",
    "\n",
    "If the RIX list below is complete, you should only have to create the cache once (one for males and one for females). You can then subset the cache based on the particular mapping population being studied (as shown in Step 6 below). If you've already created the genome cache, skip to step 3."
   ]
  },
  {
   "cell_type": "code",
   "execution_count": 2,
   "metadata": {
    "collapsed": false
   },
   "outputs": [
    {
     "data": {
      "text/html": [
       "<table>\n",
       "<thead><tr><th></th><th scope=col>Mating</th><th scope=col>CC_Mating</th></tr></thead>\n",
       "<tbody>\n",
       "\t<tr><th scope=row>1</th><td>477x16912  </td><td>CC036xCC051</td></tr>\n",
       "\t<tr><th scope=row>2</th><td>1566x8002  </td><td>CC021xCC032</td></tr>\n",
       "\t<tr><th scope=row>3</th><td>1566x8043  </td><td>CC021xCC023</td></tr>\n",
       "\t<tr><th scope=row>4</th><td>3015x5306  </td><td>CC074xCC062</td></tr>\n",
       "\t<tr><th scope=row>5</th><td>3015x5358  </td><td>CC074xCC058</td></tr>\n",
       "\t<tr><th scope=row>6</th><td>3015x15156 </td><td>CC074xCC002</td></tr>\n",
       "</tbody>\n",
       "</table>\n"
      ],
      "text/latex": [
       "\\begin{tabular}{r|ll}\n",
       "  & Mating & CC\\_Mating\\\\\n",
       "\\hline\n",
       "\t1 & 477x16912   & CC036xCC051\\\\\n",
       "\t2 & 1566x8002   & CC021xCC032\\\\\n",
       "\t3 & 1566x8043   & CC021xCC023\\\\\n",
       "\t4 & 3015x5306   & CC074xCC062\\\\\n",
       "\t5 & 3015x5358   & CC074xCC058\\\\\n",
       "\t6 & 3015x15156  & CC074xCC002\\\\\n",
       "\\end{tabular}\n"
      ],
      "text/plain": [
       "      Mating   CC_Mating\n",
       "1  477x16912 CC036xCC051\n",
       "2  1566x8002 CC021xCC032\n",
       "3  1566x8043 CC021xCC023\n",
       "4  3015x5306 CC074xCC062\n",
       "5  3015x5358 CC074xCC058\n",
       "6 3015x15156 CC074xCC002"
      ]
     },
     "execution_count": 2,
     "metadata": {},
     "output_type": "execute_result"
    }
   ],
   "source": [
    "## First get all RIX matings\n",
    "rix_list = read.xls('./data/BOBs_Corrected_16_06_22.xlsx', header=T, as.is=T)\n",
    "rix_list = rix_list[,1:2]\n",
    "colnames(rix_list) = c('Mating', 'CC_Mating')\n",
    "head(rix_list)"
   ]
  },
  {
   "cell_type": "code",
   "execution_count": 3,
   "metadata": {
    "collapsed": false
   },
   "outputs": [
    {
     "data": {
      "text/html": [
       "72"
      ],
      "text/latex": [
       "72"
      ],
      "text/markdown": [
       "72"
      ],
      "text/plain": [
       "[1] 72"
      ]
     },
     "execution_count": 3,
     "metadata": {},
     "output_type": "execute_result"
    },
    {
     "data": {
      "text/html": [
       "<ol class=list-inline>\n",
       "\t<li>'CC001-Uncb38V01.csv'</li>\n",
       "\t<li>'CC002-Uncb38V01.csv'</li>\n",
       "\t<li>'CC003-Uncb38V01.csv'</li>\n",
       "\t<li>'CC004-TauUncb38V01.csv'</li>\n",
       "\t<li>'CC005-TauUncb38V01.csv'</li>\n",
       "</ol>\n"
      ],
      "text/latex": [
       "\\begin{enumerate*}\n",
       "\\item 'CC001-Uncb38V01.csv'\n",
       "\\item 'CC002-Uncb38V01.csv'\n",
       "\\item 'CC003-Uncb38V01.csv'\n",
       "\\item 'CC004-TauUncb38V01.csv'\n",
       "\\item 'CC005-TauUncb38V01.csv'\n",
       "\\end{enumerate*}\n"
      ],
      "text/markdown": [
       "1. 'CC001-Uncb38V01.csv'\n",
       "2. 'CC002-Uncb38V01.csv'\n",
       "3. 'CC003-Uncb38V01.csv'\n",
       "4. 'CC004-TauUncb38V01.csv'\n",
       "5. 'CC005-TauUncb38V01.csv'\n",
       "\n",
       "\n"
      ],
      "text/plain": [
       "[1] \"CC001-Uncb38V01.csv\"    \"CC002-Uncb38V01.csv\"    \"CC003-Uncb38V01.csv\"   \n",
       "[4] \"CC004-TauUncb38V01.csv\" \"CC005-TauUncb38V01.csv\""
      ]
     },
     "execution_count": 3,
     "metadata": {},
     "output_type": "execute_result"
    }
   ],
   "source": [
    "## Set directory containing founder 36-state probability files, and get filenames\n",
    "#cc_dir = '/mnt/lustre1/users/mooneymi/SIG/mapping/CC'\n",
    "cc_dir = '/Users/mooneymi/Documents/SIG/Mapping/CC'\n",
    "cc_prob_files = list.files(cc_dir, pattern=\"CC...-.*b38.*\\\\.csv\")\n",
    "length(cc_prob_files)\n",
    "cc_prob_files[1:5]"
   ]
  },
  {
   "cell_type": "code",
   "execution_count": 4,
   "metadata": {
    "collapsed": false
   },
   "outputs": [
    {
     "data": {
      "text/html": [
       "69"
      ],
      "text/latex": [
       "69"
      ],
      "text/markdown": [
       "69"
      ],
      "text/plain": [
       "[1] 69"
      ]
     },
     "execution_count": 4,
     "metadata": {},
     "output_type": "execute_result"
    },
    {
     "data": {
      "text/html": [
       "<dl class=dl-horizontal>\n",
       "\t<dt>477</dt>\n",
       "\t\t<dd>'CC036'</dd>\n",
       "\t<dt>16912</dt>\n",
       "\t\t<dd>'CC051'</dd>\n",
       "\t<dt>1566</dt>\n",
       "\t\t<dd>'CC021'</dd>\n",
       "\t<dt>8002</dt>\n",
       "\t\t<dd>'CC032'</dd>\n",
       "\t<dt>8043</dt>\n",
       "\t\t<dd>'CC023'</dd>\n",
       "</dl>\n"
      ],
      "text/latex": [
       "\\begin{description*}\n",
       "\\item[477] 'CC036'\n",
       "\\item[16912] 'CC051'\n",
       "\\item[1566] 'CC021'\n",
       "\\item[8002] 'CC032'\n",
       "\\item[8043] 'CC023'\n",
       "\\end{description*}\n"
      ],
      "text/markdown": [
       "477\n",
       ":   'CC036'16912\n",
       ":   'CC051'1566\n",
       ":   'CC021'8002\n",
       ":   'CC032'8043\n",
       ":   'CC023'\n",
       "\n"
      ],
      "text/plain": [
       "    477   16912    1566    8002    8043 \n",
       "\"CC036\" \"CC051\" \"CC021\" \"CC032\" \"CC023\" "
      ]
     },
     "execution_count": 4,
     "metadata": {},
     "output_type": "execute_result"
    }
   ],
   "source": [
    "## Get vectors of parental strains\n",
    "rix_strains = unlist(strsplit(rix_list$Mating, 'x'))\n",
    "cc_strains = unlist(strsplit(rix_list$CC_Mating, 'x'))\n",
    "\n",
    "## Check strains (some cc_strains will be duplicated -- re-derived lines)\n",
    "dup_idx = duplicated(rix_strains)\n",
    "cc_strains = cc_strains[!dup_idx]\n",
    "names(cc_strains) = rix_strains[!dup_idx]\n",
    "length(cc_strains)\n",
    "cc_strains[1:5]"
   ]
  },
  {
   "cell_type": "code",
   "execution_count": 5,
   "metadata": {
    "collapsed": false
   },
   "outputs": [
    {
     "data": {
      "text/html": [
       "0"
      ],
      "text/latex": [
       "0"
      ],
      "text/markdown": [
       "0"
      ],
      "text/plain": [
       "[1] 0"
      ]
     },
     "execution_count": 5,
     "metadata": {},
     "output_type": "execute_result"
    }
   ],
   "source": [
    "## Check that all matings mapped to a CC mating\n",
    "sum(is.na(cc_strains))"
   ]
  },
  {
   "cell_type": "code",
   "execution_count": 6,
   "metadata": {
    "collapsed": true
   },
   "outputs": [],
   "source": [
    "## Set directory containing the 8-state probability files\n",
    "## These files can be created using the collapse_probs() function (see next code block)\n",
    "#rix_dir = '/mnt/lustre1/users/mooneymi/SIG/mapping/RIX'\n",
    "rix_dir = '/Users/mooneymi/Documents/SIG/Mapping/RIX'"
   ]
  },
  {
   "cell_type": "code",
   "execution_count": null,
   "metadata": {
    "collapsed": true
   },
   "outputs": [],
   "source": [
    "## If you need to create the 8-state probability files (you should only have to do this once)\n",
    "## File names will be the RIX IDs (not CC IDs). \n",
    "## Note: you may have to copy some files for re-derived lines (e.g. 8042 and 18042 are the same)\n",
    "# for (i in 1:length(cc_strains)) {\n",
    "#     ## Get RIX ID\n",
    "#     rix = names(cc_strains[i])\n",
    "#     \n",
    "#     ## Create and save the 8-state probabilities for each parental strain\n",
    "#     cc_file = file.path(cc_dir, cc_prob_files[grep(paste0(cc_strains[i], '-.*\\\\.csv'), cc_prob_files)])\n",
    "#     cc_8state = collapse_probs(cc_file)\n",
    "#     \n",
    "#     ## Save Y and M chromosomes separately\n",
    "#     autosome_x_markers = cc_8state$marker[!cc_8state$chromosome %in% c('Y', 'M')]\n",
    "#     y_m_markers = cc_8state$marker[cc_8state$chromosome %in% c('Y', 'M')]\n",
    "#     file_name = file.path(rix_dir, paste0(rix, '.csv'))\n",
    "#     write.table(cc_8state[autosome_x_markers, ], file=file_name, row.names=F, col.names=T, sep=',', quote=F)\n",
    "#     file_name = file.path(rix_dir, paste0(rix, '_Y_M.csv'))\n",
    "#     write.table(cc_8state[y_m_markers, ], file=file_name, row.names=F, col.names=T, sep=',', quote=F)\n",
    "# }"
   ]
  },
  {
   "cell_type": "code",
   "execution_count": 7,
   "metadata": {
    "collapsed": false
   },
   "outputs": [
    {
     "name": "stdout",
     "output_type": "stream",
     "text": [
      "[1] 1\n",
      "[1] 2\n",
      "[1] 3\n",
      "[1] 4\n",
      "[1] 5\n",
      "[1] 6\n",
      "[1] 7\n",
      "[1] 8\n",
      "[1] 9\n",
      "[1] 10\n",
      "[1] 11\n",
      "[1] 12\n",
      "[1] 13\n",
      "[1] 14\n",
      "[1] 15\n",
      "[1] 16\n",
      "[1] 17\n",
      "[1] 18\n",
      "[1] 19\n",
      "[1] 20\n",
      "[1] 21\n",
      "[1] 22\n",
      "[1] 23\n",
      "[1] 24\n",
      "[1] 25\n",
      "[1] 26\n",
      "[1] 27\n",
      "[1] 28\n",
      "[1] 29\n",
      "[1] 30\n",
      "[1] 31\n",
      "[1] 32\n",
      "[1] 33\n",
      "[1] 34\n",
      "[1] 35\n",
      "[1] 36\n",
      "[1] 37\n",
      "[1] 38\n",
      "[1] 39\n",
      "[1] 40\n",
      "[1] 41\n",
      "[1] 42\n",
      "[1] 43\n",
      "[1] 44\n",
      "[1] 45\n",
      "[1] 46\n",
      "[1] 47\n",
      "[1] 48\n",
      "[1] 49\n",
      "[1] 50\n",
      "[1] 51\n",
      "[1] 52\n",
      "[1] 53\n",
      "[1] 54\n",
      "[1] 55\n",
      "[1] 56\n",
      "[1] 57\n",
      "[1] 58\n",
      "[1] 59\n",
      "[1] 60\n",
      "[1] 61\n",
      "[1] 62\n",
      "[1] 63\n",
      "[1] 64\n",
      "[1] 65\n",
      "[1] 66\n",
      "[1] 67\n",
      "[1] 68\n",
      "[1] 69\n",
      "[1] 70\n",
      "[1] 71\n",
      "[1] 72\n",
      "[1] 73\n",
      "[1] 74\n",
      "[1] 75\n",
      "[1] 76\n",
      "[1] 77\n",
      "[1] 78\n",
      "[1] 79\n",
      "[1] 80\n",
      "[1] 81\n",
      "[1] 82\n",
      "[1] 83\n",
      "[1] 84\n",
      "[1] 85\n",
      "[1] 86\n",
      "[1] 87\n",
      "[1] 88\n",
      "[1] 89\n",
      "[1] 90\n",
      "[1] 91\n",
      "[1] 92\n",
      "[1] 93\n",
      "[1] 94\n",
      "[1] 95\n",
      "[1] 96\n",
      "[1] 97\n",
      "[1] 98\n",
      "[1] 99\n",
      "[1] 100\n",
      "[1] 101\n",
      "[1] 102\n",
      "[1] 103\n",
      "[1] 104\n",
      "[1] 105\n",
      "[1] 106\n",
      "[1] 107\n",
      "[1] 108\n",
      "[1] 109\n",
      "[1] 110\n",
      "[1] 111\n",
      "[1] 112\n",
      "[1] 113\n",
      "[1] 114\n",
      "[1] 115\n",
      "[1] 116\n",
      "[1] 117\n",
      "[1] 118\n",
      "[1] 119\n",
      "[1] 120\n"
     ]
    },
    {
     "data": {
      "text/html": [
       "<ol class=list-inline>\n",
       "\t<li>120</li>\n",
       "\t<li>8</li>\n",
       "\t<li>76606</li>\n",
       "</ol>\n"
      ],
      "text/latex": [
       "\\begin{enumerate*}\n",
       "\\item 120\n",
       "\\item 8\n",
       "\\item 76606\n",
       "\\end{enumerate*}\n"
      ],
      "text/markdown": [
       "1. 120\n",
       "2. 8\n",
       "3. 76606\n",
       "\n",
       "\n"
      ],
      "text/plain": [
       "[1]   120     8 76606"
      ]
     },
     "execution_count": 7,
     "metadata": {},
     "output_type": "execute_result"
    },
    {
     "data": {
      "text/html": [
       "<ol class=list-inline>\n",
       "\t<li>'samples'</li>\n",
       "\t<li>'founders'</li>\n",
       "\t<li>'markers'</li>\n",
       "</ol>\n"
      ],
      "text/latex": [
       "\\begin{enumerate*}\n",
       "\\item 'samples'\n",
       "\\item 'founders'\n",
       "\\item 'markers'\n",
       "\\end{enumerate*}\n"
      ],
      "text/markdown": [
       "1. 'samples'\n",
       "2. 'founders'\n",
       "3. 'markers'\n",
       "\n",
       "\n"
      ],
      "text/plain": [
       "[1] \"samples\"  \"founders\" \"markers\" "
      ]
     },
     "execution_count": 7,
     "metadata": {},
     "output_type": "execute_result"
    }
   ],
   "source": [
    "## Create 3D probability array - Males\n",
    "model.probs = make_rix_model_probs(rix_list$Mating, rix_dir, 'M')\n",
    "dim(model.probs)\n",
    "names(dimnames(model.probs))"
   ]
  },
  {
   "cell_type": "code",
   "execution_count": 8,
   "metadata": {
    "collapsed": false
   },
   "outputs": [
    {
     "data": {
      "text/html": [
       "<table>\n",
       "<thead><tr><th></th><th scope=col>UNC6</th><th scope=col>JAX00000010</th><th scope=col>JAX00240603</th><th scope=col>JAX00240610</th><th scope=col>JAX00240613</th></tr></thead>\n",
       "<tbody>\n",
       "\t<tr><th scope=row>A</th><td>3.00075e-06</td><td>2.62500e-06</td><td>2.25000e-06</td><td>1.87500e-06</td><td>1.50000e-06</td></tr>\n",
       "\t<tr><th scope=row>B</th><td>3.751e-06</td><td>3.375e-06</td><td>3.000e-06</td><td>2.625e-06</td><td>2.250e-06</td></tr>\n",
       "\t<tr><th scope=row>C</th><td>2.292e-06</td><td>1.875e-06</td><td>1.500e-06</td><td>1.125e-06</td><td>7.500e-07</td></tr>\n",
       "\t<tr><th scope=row>D</th><td>2.292e-06</td><td>1.875e-06</td><td>1.500e-06</td><td>1.125e-06</td><td>7.500e-07</td></tr>\n",
       "\t<tr><th scope=row>E</th><td>0.4999923</td><td>0.4999936</td><td>0.4999947</td><td>0.4999955</td><td>0.4999962</td></tr>\n",
       "\t<tr><th scope=row>F</th><td>0.4999948</td><td>0.4999959</td><td>0.4999970</td><td>0.4999978</td><td>0.4999985</td></tr>\n",
       "\t<tr><th scope=row>G</th><td>7.92e-07</td><td>3.75e-07</td><td>0.00e+00</td><td>0.00e+00</td><td>0.00e+00</td></tr>\n",
       "\t<tr><th scope=row>H</th><td>7.5075e-07</td><td>3.7500e-07</td><td>0.0000e+00</td><td>0.0000e+00</td><td>0.0000e+00</td></tr>\n",
       "</tbody>\n",
       "</table>\n"
      ],
      "text/latex": [
       "\\begin{tabular}{r|lllll}\n",
       "  & UNC6 & JAX00000010 & JAX00240603 & JAX00240610 & JAX00240613\\\\\n",
       "\\hline\n",
       "\tA & 3.00075e-06 & 2.62500e-06 & 2.25000e-06 & 1.87500e-06 & 1.50000e-06\\\\\n",
       "\tB & 3.751e-06 & 3.375e-06 & 3.000e-06 & 2.625e-06 & 2.250e-06\\\\\n",
       "\tC & 2.292e-06 & 1.875e-06 & 1.500e-06 & 1.125e-06 & 7.500e-07\\\\\n",
       "\tD & 2.292e-06 & 1.875e-06 & 1.500e-06 & 1.125e-06 & 7.500e-07\\\\\n",
       "\tE & 0.4999923 & 0.4999936 & 0.4999947 & 0.4999955 & 0.4999962\\\\\n",
       "\tF & 0.4999948 & 0.4999959 & 0.4999970 & 0.4999978 & 0.4999985\\\\\n",
       "\tG & 7.92e-07 & 3.75e-07 & 0.00e+00 & 0.00e+00 & 0.00e+00\\\\\n",
       "\tH & 7.5075e-07 & 3.7500e-07 & 0.0000e+00 & 0.0000e+00 & 0.0000e+00\\\\\n",
       "\\end{tabular}\n"
      ],
      "text/markdown": [
       "1. 3.00075e-06\n",
       "2. 3.751e-06\n",
       "3. 2.292e-06\n",
       "4. 2.292e-06\n",
       "5. 0.4999923325\n",
       "6. 0.499994789\n",
       "7. 7.92e-07\n",
       "8. 7.5075e-07\n",
       "9. 2.625e-06\n",
       "10. 3.375e-06\n",
       "11. 1.875e-06\n",
       "12. 1.875e-06\n",
       "13. 0.499993625\n",
       "14. 0.499995875\n",
       "15. 3.75e-07\n",
       "16. 3.75e-07\n",
       "17. 2.25e-06\n",
       "18. 3e-06\n",
       "19. 1.5e-06\n",
       "20. 1.5e-06\n",
       "21. 0.49999475\n",
       "22. 0.499997\n",
       "23. 0\n",
       "24. 0\n",
       "25. 1.875e-06\n",
       "26. 2.625e-06\n",
       "27. 1.125e-06\n",
       "28. 1.125e-06\n",
       "29. 0.4999955\n",
       "30. 0.49999775\n",
       "31. 0\n",
       "32. 0\n",
       "33. 1.5e-06\n",
       "34. 2.25e-06\n",
       "35. 7.5e-07\n",
       "36. 7.5e-07\n",
       "37. 0.49999625\n",
       "38. 0.4999985\n",
       "39. 0\n",
       "40. 0\n",
       "\n",
       "\n"
      ],
      "text/plain": [
       "        markers\n",
       "founders         UNC6 JAX00000010 JAX00240603 JAX00240610 JAX00240613\n",
       "       A 3.000750e-06 0.000002625  0.00000225 0.000001875  0.00000150\n",
       "       B 3.751000e-06 0.000003375  0.00000300 0.000002625  0.00000225\n",
       "       C 2.292000e-06 0.000001875  0.00000150 0.000001125  0.00000075\n",
       "       D 2.292000e-06 0.000001875  0.00000150 0.000001125  0.00000075\n",
       "       E 4.999923e-01 0.499993625  0.49999475 0.499995500  0.49999625\n",
       "       F 4.999948e-01 0.499995875  0.49999700 0.499997750  0.49999850\n",
       "       G 7.920000e-07 0.000000375  0.00000000 0.000000000  0.00000000\n",
       "       H 7.507500e-07 0.000000375  0.00000000 0.000000000  0.00000000"
      ]
     },
     "execution_count": 8,
     "metadata": {},
     "output_type": "execute_result"
    }
   ],
   "source": [
    "## Check model.probs object\n",
    "model.probs[1,,1:5]"
   ]
  },
  {
   "cell_type": "code",
   "execution_count": 9,
   "metadata": {
    "collapsed": true
   },
   "outputs": [],
   "source": [
    "## Get vector of all markers\n",
    "all_markers = dimnames(model.probs)[[3]]"
   ]
  },
  {
   "cell_type": "code",
   "execution_count": 10,
   "metadata": {
    "collapsed": false
   },
   "outputs": [
    {
     "data": {
      "text/html": [
       "6"
      ],
      "text/latex": [
       "6"
      ],
      "text/markdown": [
       "6"
      ],
      "text/plain": [
       "[1] 6"
      ]
     },
     "execution_count": 10,
     "metadata": {},
     "output_type": "execute_result"
    }
   ],
   "source": [
    "## Check if any markers sum to 0\n",
    "markers_zero_idx = which(apply(model.probs, 1, colSums) == 0)\n",
    "markers_zero = rep(all_markers, length(samples))[markers_zero_idx]\n",
    "markers_zero = markers_zero[!is.na(markers_zero)]\n",
    "markers_zero = unique(markers_zero)\n",
    "length(markers_zero)"
   ]
  },
  {
   "cell_type": "code",
   "execution_count": 11,
   "metadata": {
    "collapsed": false
   },
   "outputs": [
    {
     "data": {
      "text/html": [
       "<ol class=list-inline>\n",
       "\t<li>120</li>\n",
       "\t<li>8</li>\n",
       "\t<li>76600</li>\n",
       "</ol>\n"
      ],
      "text/latex": [
       "\\begin{enumerate*}\n",
       "\\item 120\n",
       "\\item 8\n",
       "\\item 76600\n",
       "\\end{enumerate*}\n"
      ],
      "text/markdown": [
       "1. 120\n",
       "2. 8\n",
       "3. 76600\n",
       "\n",
       "\n"
      ],
      "text/plain": [
       "[1]   120     8 76600"
      ]
     },
     "execution_count": 11,
     "metadata": {},
     "output_type": "execute_result"
    }
   ],
   "source": [
    "## Remove markers with all zeros\n",
    "model.probs = model.probs[, , setdiff(all_markers, markers_zero)]\n",
    "dim(model.probs)"
   ]
  },
  {
   "cell_type": "code",
   "execution_count": 12,
   "metadata": {
    "collapsed": false
   },
   "outputs": [
    {
     "data": {
      "text/html": [
       "<table>\n",
       "<thead><tr><th></th><th scope=col>UNC6</th><th scope=col>JAX00000010</th><th scope=col>JAX00240603</th><th scope=col>JAX00240610</th><th scope=col>JAX00240613</th></tr></thead>\n",
       "<tbody>\n",
       "\t<tr><th scope=row>A</th><td>3.00075e-06</td><td>2.62500e-06</td><td>2.25000e-06</td><td>1.87500e-06</td><td>1.50000e-06</td></tr>\n",
       "\t<tr><th scope=row>B</th><td>3.751e-06</td><td>3.375e-06</td><td>3.000e-06</td><td>2.625e-06</td><td>2.250e-06</td></tr>\n",
       "\t<tr><th scope=row>C</th><td>2.292e-06</td><td>1.875e-06</td><td>1.500e-06</td><td>1.125e-06</td><td>7.500e-07</td></tr>\n",
       "\t<tr><th scope=row>D</th><td>2.292e-06</td><td>1.875e-06</td><td>1.500e-06</td><td>1.125e-06</td><td>7.500e-07</td></tr>\n",
       "\t<tr><th scope=row>E</th><td>0.4999923</td><td>0.4999936</td><td>0.4999947</td><td>0.4999955</td><td>0.4999962</td></tr>\n",
       "\t<tr><th scope=row>F</th><td>0.4999948</td><td>0.4999959</td><td>0.4999970</td><td>0.4999978</td><td>0.4999985</td></tr>\n",
       "\t<tr><th scope=row>G</th><td>7.92e-07</td><td>3.75e-07</td><td>1.00e-20</td><td>1.00e-20</td><td>1.00e-20</td></tr>\n",
       "\t<tr><th scope=row>H</th><td>7.5075e-07</td><td>3.7500e-07</td><td>1.0000e-20</td><td>1.0000e-20</td><td>1.0000e-20</td></tr>\n",
       "</tbody>\n",
       "</table>\n"
      ],
      "text/latex": [
       "\\begin{tabular}{r|lllll}\n",
       "  & UNC6 & JAX00000010 & JAX00240603 & JAX00240610 & JAX00240613\\\\\n",
       "\\hline\n",
       "\tA & 3.00075e-06 & 2.62500e-06 & 2.25000e-06 & 1.87500e-06 & 1.50000e-06\\\\\n",
       "\tB & 3.751e-06 & 3.375e-06 & 3.000e-06 & 2.625e-06 & 2.250e-06\\\\\n",
       "\tC & 2.292e-06 & 1.875e-06 & 1.500e-06 & 1.125e-06 & 7.500e-07\\\\\n",
       "\tD & 2.292e-06 & 1.875e-06 & 1.500e-06 & 1.125e-06 & 7.500e-07\\\\\n",
       "\tE & 0.4999923 & 0.4999936 & 0.4999947 & 0.4999955 & 0.4999962\\\\\n",
       "\tF & 0.4999948 & 0.4999959 & 0.4999970 & 0.4999978 & 0.4999985\\\\\n",
       "\tG & 7.92e-07 & 3.75e-07 & 1.00e-20 & 1.00e-20 & 1.00e-20\\\\\n",
       "\tH & 7.5075e-07 & 3.7500e-07 & 1.0000e-20 & 1.0000e-20 & 1.0000e-20\\\\\n",
       "\\end{tabular}\n"
      ],
      "text/markdown": [
       "1. 3.00075e-06\n",
       "2. 3.751e-06\n",
       "3. 2.292e-06\n",
       "4. 2.292e-06\n",
       "5. 0.4999923325\n",
       "6. 0.499994789\n",
       "7. 7.92e-07\n",
       "8. 7.5075e-07\n",
       "9. 2.625e-06\n",
       "10. 3.375e-06\n",
       "11. 1.875e-06\n",
       "12. 1.875e-06\n",
       "13. 0.499993625\n",
       "14. 0.499995875\n",
       "15. 3.75e-07\n",
       "16. 3.75e-07\n",
       "17. 2.25e-06\n",
       "18. 3e-06\n",
       "19. 1.5e-06\n",
       "20. 1.5e-06\n",
       "21. 0.49999475\n",
       "22. 0.499997\n",
       "23. 1e-20\n",
       "24. 1e-20\n",
       "25. 1.875e-06\n",
       "26. 2.625e-06\n",
       "27. 1.125e-06\n",
       "28. 1.125e-06\n",
       "29. 0.4999955\n",
       "30. 0.49999775\n",
       "31. 1e-20\n",
       "32. 1e-20\n",
       "33. 1.5e-06\n",
       "34. 2.25e-06\n",
       "35. 7.5e-07\n",
       "36. 7.5e-07\n",
       "37. 0.49999625\n",
       "38. 0.4999985\n",
       "39. 1e-20\n",
       "40. 1e-20\n",
       "\n",
       "\n"
      ],
      "text/plain": [
       "        markers\n",
       "founders         UNC6 JAX00000010  JAX00240603  JAX00240610  JAX00240613\n",
       "       A 3.000750e-06 0.000002625 2.250000e-06 1.875000e-06 1.500000e-06\n",
       "       B 3.751000e-06 0.000003375 3.000000e-06 2.625000e-06 2.250000e-06\n",
       "       C 2.292000e-06 0.000001875 1.500000e-06 1.125000e-06 7.500000e-07\n",
       "       D 2.292000e-06 0.000001875 1.500000e-06 1.125000e-06 7.500000e-07\n",
       "       E 4.999923e-01 0.499993625 4.999947e-01 4.999955e-01 4.999962e-01\n",
       "       F 4.999948e-01 0.499995875 4.999970e-01 4.999978e-01 4.999985e-01\n",
       "       G 7.920000e-07 0.000000375 1.000000e-20 1.000000e-20 1.000000e-20\n",
       "       H 7.507500e-07 0.000000375 1.000000e-20 1.000000e-20 1.000000e-20"
      ]
     },
     "execution_count": 12,
     "metadata": {},
     "output_type": "execute_result"
    }
   ],
   "source": [
    "## Make all probabilities non-zero\n",
    "model.probs[model.probs == 0] = 1e-20\n",
    "model.probs[1,,1:5]"
   ]
  },
  {
   "cell_type": "code",
   "execution_count": 13,
   "metadata": {
    "collapsed": true
   },
   "outputs": [],
   "source": [
    "## Save genome cache - males\n",
    "mapping_dir = '/Users/mooneymi/Documents/SIG/Mapping'\n",
    "save(model.probs, file=file.path(mapping_dir, 'rix_universal_model_prob_males_27-Jun-2016.rda'))"
   ]
  },
  {
   "cell_type": "code",
   "execution_count": 14,
   "metadata": {
    "collapsed": false
   },
   "outputs": [
    {
     "name": "stdout",
     "output_type": "stream",
     "text": [
      "[1] 1\n",
      "[1] 2\n",
      "[1] 3\n",
      "[1] 4\n",
      "[1] 5\n",
      "[1] 6\n",
      "[1] 7\n",
      "[1] 8\n",
      "[1] 9\n",
      "[1] 10\n",
      "[1] 11\n",
      "[1] 12\n",
      "[1] 13\n",
      "[1] 14\n",
      "[1] 15\n",
      "[1] 16\n",
      "[1] 17\n",
      "[1] 18\n",
      "[1] 19\n",
      "[1] 20\n",
      "[1] 21\n",
      "[1] 22\n",
      "[1] 23\n",
      "[1] 24\n",
      "[1] 25\n",
      "[1] 26\n",
      "[1] 27\n",
      "[1] 28\n",
      "[1] 29\n",
      "[1] 30\n",
      "[1] 31\n",
      "[1] 32\n",
      "[1] 33\n",
      "[1] 34\n",
      "[1] 35\n",
      "[1] 36\n",
      "[1] 37\n",
      "[1] 38\n",
      "[1] 39\n",
      "[1] 40\n",
      "[1] 41\n",
      "[1] 42\n",
      "[1] 43\n",
      "[1] 44\n",
      "[1] 45\n",
      "[1] 46\n",
      "[1] 47\n",
      "[1] 48\n",
      "[1] 49\n",
      "[1] 50\n",
      "[1] 51\n",
      "[1] 52\n",
      "[1] 53\n",
      "[1] 54\n",
      "[1] 55\n",
      "[1] 56\n",
      "[1] 57\n",
      "[1] 58\n",
      "[1] 59\n",
      "[1] 60\n",
      "[1] 61\n",
      "[1] 62\n",
      "[1] 63\n",
      "[1] 64\n",
      "[1] 65\n",
      "[1] 66\n",
      "[1] 67\n",
      "[1] 68\n",
      "[1] 69\n",
      "[1] 70\n",
      "[1] 71\n",
      "[1] 72\n",
      "[1] 73\n",
      "[1] 74\n",
      "[1] 75\n",
      "[1] 76\n",
      "[1] 77\n",
      "[1] 78\n",
      "[1] 79\n",
      "[1] 80\n",
      "[1] 81\n",
      "[1] 82\n",
      "[1] 83\n",
      "[1] 84\n",
      "[1] 85\n",
      "[1] 86\n",
      "[1] 87\n",
      "[1] 88\n",
      "[1] 89\n",
      "[1] 90\n",
      "[1] 91\n",
      "[1] 92\n",
      "[1] 93\n",
      "[1] 94\n",
      "[1] 95\n",
      "[1] 96\n",
      "[1] 97\n",
      "[1] 98\n",
      "[1] 99\n",
      "[1] 100\n",
      "[1] 101\n",
      "[1] 102\n",
      "[1] 103\n",
      "[1] 104\n",
      "[1] 105\n",
      "[1] 106\n",
      "[1] 107\n",
      "[1] 108\n",
      "[1] 109\n",
      "[1] 110\n",
      "[1] 111\n",
      "[1] 112\n",
      "[1] 113\n",
      "[1] 114\n",
      "[1] 115\n",
      "[1] 116\n",
      "[1] 117\n",
      "[1] 118\n",
      "[1] 119\n",
      "[1] 120\n"
     ]
    },
    {
     "data": {
      "text/html": [
       "<ol class=list-inline>\n",
       "\t<li>120</li>\n",
       "\t<li>8</li>\n",
       "\t<li>76606</li>\n",
       "</ol>\n"
      ],
      "text/latex": [
       "\\begin{enumerate*}\n",
       "\\item 120\n",
       "\\item 8\n",
       "\\item 76606\n",
       "\\end{enumerate*}\n"
      ],
      "text/markdown": [
       "1. 120\n",
       "2. 8\n",
       "3. 76606\n",
       "\n",
       "\n"
      ],
      "text/plain": [
       "[1]   120     8 76606"
      ]
     },
     "execution_count": 14,
     "metadata": {},
     "output_type": "execute_result"
    },
    {
     "data": {
      "text/html": [
       "<ol class=list-inline>\n",
       "\t<li>'samples'</li>\n",
       "\t<li>'founders'</li>\n",
       "\t<li>'markers'</li>\n",
       "</ol>\n"
      ],
      "text/latex": [
       "\\begin{enumerate*}\n",
       "\\item 'samples'\n",
       "\\item 'founders'\n",
       "\\item 'markers'\n",
       "\\end{enumerate*}\n"
      ],
      "text/markdown": [
       "1. 'samples'\n",
       "2. 'founders'\n",
       "3. 'markers'\n",
       "\n",
       "\n"
      ],
      "text/plain": [
       "[1] \"samples\"  \"founders\" \"markers\" "
      ]
     },
     "execution_count": 14,
     "metadata": {},
     "output_type": "execute_result"
    }
   ],
   "source": [
    "## Create 3D probability array - Females\n",
    "model.probs = make_rix_model_probs(rix_list$Mating, rix_dir, 'F')\n",
    "dim(model.probs)\n",
    "names(dimnames(model.probs))"
   ]
  },
  {
   "cell_type": "code",
   "execution_count": 15,
   "metadata": {
    "collapsed": false
   },
   "outputs": [
    {
     "data": {
      "text/html": [
       "<table>\n",
       "<thead><tr><th></th><th scope=col>UNC6</th><th scope=col>JAX00000010</th><th scope=col>JAX00240603</th><th scope=col>JAX00240610</th><th scope=col>JAX00240613</th></tr></thead>\n",
       "<tbody>\n",
       "\t<tr><th scope=row>A</th><td>3.00075e-06</td><td>2.62500e-06</td><td>2.25000e-06</td><td>1.87500e-06</td><td>1.50000e-06</td></tr>\n",
       "\t<tr><th scope=row>B</th><td>3.751e-06</td><td>3.375e-06</td><td>3.000e-06</td><td>2.625e-06</td><td>2.250e-06</td></tr>\n",
       "\t<tr><th scope=row>C</th><td>2.292e-06</td><td>1.875e-06</td><td>1.500e-06</td><td>1.125e-06</td><td>7.500e-07</td></tr>\n",
       "\t<tr><th scope=row>D</th><td>2.292e-06</td><td>1.875e-06</td><td>1.500e-06</td><td>1.125e-06</td><td>7.500e-07</td></tr>\n",
       "\t<tr><th scope=row>E</th><td>0.4999923</td><td>0.4999936</td><td>0.4999947</td><td>0.4999955</td><td>0.4999962</td></tr>\n",
       "\t<tr><th scope=row>F</th><td>0.4999948</td><td>0.4999959</td><td>0.4999970</td><td>0.4999978</td><td>0.4999985</td></tr>\n",
       "\t<tr><th scope=row>G</th><td>7.92e-07</td><td>3.75e-07</td><td>0.00e+00</td><td>0.00e+00</td><td>0.00e+00</td></tr>\n",
       "\t<tr><th scope=row>H</th><td>7.5075e-07</td><td>3.7500e-07</td><td>0.0000e+00</td><td>0.0000e+00</td><td>0.0000e+00</td></tr>\n",
       "</tbody>\n",
       "</table>\n"
      ],
      "text/latex": [
       "\\begin{tabular}{r|lllll}\n",
       "  & UNC6 & JAX00000010 & JAX00240603 & JAX00240610 & JAX00240613\\\\\n",
       "\\hline\n",
       "\tA & 3.00075e-06 & 2.62500e-06 & 2.25000e-06 & 1.87500e-06 & 1.50000e-06\\\\\n",
       "\tB & 3.751e-06 & 3.375e-06 & 3.000e-06 & 2.625e-06 & 2.250e-06\\\\\n",
       "\tC & 2.292e-06 & 1.875e-06 & 1.500e-06 & 1.125e-06 & 7.500e-07\\\\\n",
       "\tD & 2.292e-06 & 1.875e-06 & 1.500e-06 & 1.125e-06 & 7.500e-07\\\\\n",
       "\tE & 0.4999923 & 0.4999936 & 0.4999947 & 0.4999955 & 0.4999962\\\\\n",
       "\tF & 0.4999948 & 0.4999959 & 0.4999970 & 0.4999978 & 0.4999985\\\\\n",
       "\tG & 7.92e-07 & 3.75e-07 & 0.00e+00 & 0.00e+00 & 0.00e+00\\\\\n",
       "\tH & 7.5075e-07 & 3.7500e-07 & 0.0000e+00 & 0.0000e+00 & 0.0000e+00\\\\\n",
       "\\end{tabular}\n"
      ],
      "text/markdown": [
       "1. 3.00075e-06\n",
       "2. 3.751e-06\n",
       "3. 2.292e-06\n",
       "4. 2.292e-06\n",
       "5. 0.4999923325\n",
       "6. 0.499994789\n",
       "7. 7.92e-07\n",
       "8. 7.5075e-07\n",
       "9. 2.625e-06\n",
       "10. 3.375e-06\n",
       "11. 1.875e-06\n",
       "12. 1.875e-06\n",
       "13. 0.499993625\n",
       "14. 0.499995875\n",
       "15. 3.75e-07\n",
       "16. 3.75e-07\n",
       "17. 2.25e-06\n",
       "18. 3e-06\n",
       "19. 1.5e-06\n",
       "20. 1.5e-06\n",
       "21. 0.49999475\n",
       "22. 0.499997\n",
       "23. 0\n",
       "24. 0\n",
       "25. 1.875e-06\n",
       "26. 2.625e-06\n",
       "27. 1.125e-06\n",
       "28. 1.125e-06\n",
       "29. 0.4999955\n",
       "30. 0.49999775\n",
       "31. 0\n",
       "32. 0\n",
       "33. 1.5e-06\n",
       "34. 2.25e-06\n",
       "35. 7.5e-07\n",
       "36. 7.5e-07\n",
       "37. 0.49999625\n",
       "38. 0.4999985\n",
       "39. 0\n",
       "40. 0\n",
       "\n",
       "\n"
      ],
      "text/plain": [
       "        markers\n",
       "founders         UNC6 JAX00000010 JAX00240603 JAX00240610 JAX00240613\n",
       "       A 3.000750e-06 0.000002625  0.00000225 0.000001875  0.00000150\n",
       "       B 3.751000e-06 0.000003375  0.00000300 0.000002625  0.00000225\n",
       "       C 2.292000e-06 0.000001875  0.00000150 0.000001125  0.00000075\n",
       "       D 2.292000e-06 0.000001875  0.00000150 0.000001125  0.00000075\n",
       "       E 4.999923e-01 0.499993625  0.49999475 0.499995500  0.49999625\n",
       "       F 4.999948e-01 0.499995875  0.49999700 0.499997750  0.49999850\n",
       "       G 7.920000e-07 0.000000375  0.00000000 0.000000000  0.00000000\n",
       "       H 7.507500e-07 0.000000375  0.00000000 0.000000000  0.00000000"
      ]
     },
     "execution_count": 15,
     "metadata": {},
     "output_type": "execute_result"
    }
   ],
   "source": [
    "## Check model.probs object\n",
    "model.probs[1,,1:5]"
   ]
  },
  {
   "cell_type": "code",
   "execution_count": 16,
   "metadata": {
    "collapsed": false
   },
   "outputs": [
    {
     "data": {
      "text/html": [
       "<ol class=list-inline>\n",
       "\t<li>120</li>\n",
       "\t<li>8</li>\n",
       "\t<li>76600</li>\n",
       "</ol>\n"
      ],
      "text/latex": [
       "\\begin{enumerate*}\n",
       "\\item 120\n",
       "\\item 8\n",
       "\\item 76600\n",
       "\\end{enumerate*}\n"
      ],
      "text/markdown": [
       "1. 120\n",
       "2. 8\n",
       "3. 76600\n",
       "\n",
       "\n"
      ],
      "text/plain": [
       "[1]   120     8 76600"
      ]
     },
     "execution_count": 16,
     "metadata": {},
     "output_type": "execute_result"
    }
   ],
   "source": [
    "## Remove markers with all zeros\n",
    "model.probs = model.probs[, , setdiff(all_markers, markers_zero)]\n",
    "dim(model.probs)"
   ]
  },
  {
   "cell_type": "code",
   "execution_count": 18,
   "metadata": {
    "collapsed": false
   },
   "outputs": [
    {
     "data": {
      "text/html": [
       "<table>\n",
       "<thead><tr><th></th><th scope=col>UNC6</th><th scope=col>JAX00000010</th><th scope=col>JAX00240603</th><th scope=col>JAX00240610</th><th scope=col>JAX00240613</th></tr></thead>\n",
       "<tbody>\n",
       "\t<tr><th scope=row>A</th><td>3.00075e-06</td><td>2.62500e-06</td><td>2.25000e-06</td><td>1.87500e-06</td><td>1.50000e-06</td></tr>\n",
       "\t<tr><th scope=row>B</th><td>3.751e-06</td><td>3.375e-06</td><td>3.000e-06</td><td>2.625e-06</td><td>2.250e-06</td></tr>\n",
       "\t<tr><th scope=row>C</th><td>2.292e-06</td><td>1.875e-06</td><td>1.500e-06</td><td>1.125e-06</td><td>7.500e-07</td></tr>\n",
       "\t<tr><th scope=row>D</th><td>2.292e-06</td><td>1.875e-06</td><td>1.500e-06</td><td>1.125e-06</td><td>7.500e-07</td></tr>\n",
       "\t<tr><th scope=row>E</th><td>0.4999923</td><td>0.4999936</td><td>0.4999947</td><td>0.4999955</td><td>0.4999962</td></tr>\n",
       "\t<tr><th scope=row>F</th><td>0.4999948</td><td>0.4999959</td><td>0.4999970</td><td>0.4999978</td><td>0.4999985</td></tr>\n",
       "\t<tr><th scope=row>G</th><td>7.92e-07</td><td>3.75e-07</td><td>1.00e-20</td><td>1.00e-20</td><td>1.00e-20</td></tr>\n",
       "\t<tr><th scope=row>H</th><td>7.5075e-07</td><td>3.7500e-07</td><td>1.0000e-20</td><td>1.0000e-20</td><td>1.0000e-20</td></tr>\n",
       "</tbody>\n",
       "</table>\n"
      ],
      "text/latex": [
       "\\begin{tabular}{r|lllll}\n",
       "  & UNC6 & JAX00000010 & JAX00240603 & JAX00240610 & JAX00240613\\\\\n",
       "\\hline\n",
       "\tA & 3.00075e-06 & 2.62500e-06 & 2.25000e-06 & 1.87500e-06 & 1.50000e-06\\\\\n",
       "\tB & 3.751e-06 & 3.375e-06 & 3.000e-06 & 2.625e-06 & 2.250e-06\\\\\n",
       "\tC & 2.292e-06 & 1.875e-06 & 1.500e-06 & 1.125e-06 & 7.500e-07\\\\\n",
       "\tD & 2.292e-06 & 1.875e-06 & 1.500e-06 & 1.125e-06 & 7.500e-07\\\\\n",
       "\tE & 0.4999923 & 0.4999936 & 0.4999947 & 0.4999955 & 0.4999962\\\\\n",
       "\tF & 0.4999948 & 0.4999959 & 0.4999970 & 0.4999978 & 0.4999985\\\\\n",
       "\tG & 7.92e-07 & 3.75e-07 & 1.00e-20 & 1.00e-20 & 1.00e-20\\\\\n",
       "\tH & 7.5075e-07 & 3.7500e-07 & 1.0000e-20 & 1.0000e-20 & 1.0000e-20\\\\\n",
       "\\end{tabular}\n"
      ],
      "text/markdown": [
       "1. 3.00075e-06\n",
       "2. 3.751e-06\n",
       "3. 2.292e-06\n",
       "4. 2.292e-06\n",
       "5. 0.4999923325\n",
       "6. 0.499994789\n",
       "7. 7.92e-07\n",
       "8. 7.5075e-07\n",
       "9. 2.625e-06\n",
       "10. 3.375e-06\n",
       "11. 1.875e-06\n",
       "12. 1.875e-06\n",
       "13. 0.499993625\n",
       "14. 0.499995875\n",
       "15. 3.75e-07\n",
       "16. 3.75e-07\n",
       "17. 2.25e-06\n",
       "18. 3e-06\n",
       "19. 1.5e-06\n",
       "20. 1.5e-06\n",
       "21. 0.49999475\n",
       "22. 0.499997\n",
       "23. 1e-20\n",
       "24. 1e-20\n",
       "25. 1.875e-06\n",
       "26. 2.625e-06\n",
       "27. 1.125e-06\n",
       "28. 1.125e-06\n",
       "29. 0.4999955\n",
       "30. 0.49999775\n",
       "31. 1e-20\n",
       "32. 1e-20\n",
       "33. 1.5e-06\n",
       "34. 2.25e-06\n",
       "35. 7.5e-07\n",
       "36. 7.5e-07\n",
       "37. 0.49999625\n",
       "38. 0.4999985\n",
       "39. 1e-20\n",
       "40. 1e-20\n",
       "\n",
       "\n"
      ],
      "text/plain": [
       "        markers\n",
       "founders         UNC6 JAX00000010  JAX00240603  JAX00240610  JAX00240613\n",
       "       A 3.000750e-06 0.000002625 2.250000e-06 1.875000e-06 1.500000e-06\n",
       "       B 3.751000e-06 0.000003375 3.000000e-06 2.625000e-06 2.250000e-06\n",
       "       C 2.292000e-06 0.000001875 1.500000e-06 1.125000e-06 7.500000e-07\n",
       "       D 2.292000e-06 0.000001875 1.500000e-06 1.125000e-06 7.500000e-07\n",
       "       E 4.999923e-01 0.499993625 4.999947e-01 4.999955e-01 4.999962e-01\n",
       "       F 4.999948e-01 0.499995875 4.999970e-01 4.999978e-01 4.999985e-01\n",
       "       G 7.920000e-07 0.000000375 1.000000e-20 1.000000e-20 1.000000e-20\n",
       "       H 7.507500e-07 0.000000375 1.000000e-20 1.000000e-20 1.000000e-20"
      ]
     },
     "execution_count": 18,
     "metadata": {},
     "output_type": "execute_result"
    }
   ],
   "source": [
    "## Make all probabilities non-zero\n",
    "model.probs[model.probs == 0] = 1e-20\n",
    "model.probs[1,,1:5]"
   ]
  },
  {
   "cell_type": "code",
   "execution_count": 19,
   "metadata": {
    "collapsed": true
   },
   "outputs": [],
   "source": [
    "## Save genome cache - females\n",
    "save(model.probs, file=file.path(mapping_dir, 'rix_universal_model_prob_females_27-Jun-2016.rda'))"
   ]
  },
  {
   "cell_type": "markdown",
   "metadata": {},
   "source": [
    "## Step 3. Create Phenotype Dataframe"
   ]
  },
  {
   "cell_type": "code",
   "execution_count": 2,
   "metadata": {
    "collapsed": false
   },
   "outputs": [
    {
     "data": {
      "text/html": [
       "<ol class=list-inline>\n",
       "\t<li>15244</li>\n",
       "\t<li>21</li>\n",
       "</ol>\n"
      ],
      "text/latex": [
       "\\begin{enumerate*}\n",
       "\\item 15244\n",
       "\\item 21\n",
       "\\end{enumerate*}\n"
      ],
      "text/markdown": [
       "1. 15244\n",
       "2. 21\n",
       "\n",
       "\n"
      ],
      "text/plain": [
       "[1] 15244    21"
      ]
     },
     "execution_count": 2,
     "metadata": {},
     "output_type": "execute_result"
    }
   ],
   "source": [
    "## Read phenotype data\n",
    "cleaned_data_dir = '/Users/mooneymi/Documents/SIG/WNV/Cleaned_Data_Releases/14-Jun-2016/'\n",
    "pheno_dir = '/Users/mooneymi/Documents/SIG/Mapping/phenotypes'\n",
    "mapping_dir = '/Users/mooneymi/Documents/SIG/Mapping'\n",
    "\n",
    "## For this example we're working with qPCR data\n",
    "pheno = read.xls(file.path(cleaned_data_dir, 'Gale_qPCR_byMouse_14-Jun-2016_final.xlsx'), header=T, as.is=T)\n",
    "dim(pheno)"
   ]
  },
  {
   "cell_type": "code",
   "execution_count": 3,
   "metadata": {
    "collapsed": false
   },
   "outputs": [
    {
     "data": {
      "text/html": [
       "<ol class=list-inline>\n",
       "\t<li>158</li>\n",
       "\t<li>21</li>\n",
       "</ol>\n"
      ],
      "text/latex": [
       "\\begin{enumerate*}\n",
       "\\item 158\n",
       "\\item 21\n",
       "\\end{enumerate*}\n"
      ],
      "text/markdown": [
       "1. 158\n",
       "2. 21\n",
       "\n",
       "\n"
      ],
      "text/plain": [
       "[1] 158  21"
      ]
     },
     "execution_count": 3,
     "metadata": {},
     "output_type": "execute_result"
    }
   ],
   "source": [
    "## The phenotype will be D12 WNV (viral titer) in the brain\n",
    "pheno = pheno[with(pheno, Virus=='WNV' & Timepoint==12 & Experiment=='WNV' & Tissue=='Brain'), ]\n",
    "dim(pheno)"
   ]
  },
  {
   "cell_type": "code",
   "execution_count": null,
   "metadata": {
    "collapsed": true
   },
   "outputs": [],
   "source": [
    "## Save the phenotype dataframe (optional)\n",
    "#save(pheno, file=file.path(pheno_dir, 'wnv_dCt_brain_d12_wnv_17-Jun-2016.rda'))"
   ]
  },
  {
   "cell_type": "code",
   "execution_count": 4,
   "metadata": {
    "collapsed": false
   },
   "outputs": [
    {
     "data": {
      "image/png": "[encoded data removed]",
      "text/plain": [
       "plot without title"
      ]
     },
     "metadata": {
      "image/svg+xml": {
       "isolated": true
      }
     },
     "output_type": "display_data"
    }
   ],
   "source": [
    "library(lattice)\n",
    "dotplot(reorder(pheno[,'UW_Line'], pheno[,'dCt'], mean, na.rm=T) ~ \n",
    "        pheno[,'dCt'] | pheno[,'Virus'], \n",
    "        panel = function(x,y,...) {panel.dotplot(x,y,...); panel.abline(v=0, col.line=\"red\")}, \n",
    "        pch=19, ylab='UW Line', xlab=\"D12 WNV dCt\")"
   ]
  },
  {
   "cell_type": "markdown",
   "metadata": {},
   "source": [
    "## Step 4. Update Phenotypes and Create Covariate Dataframe"
   ]
  },
  {
   "cell_type": "code",
   "execution_count": 5,
   "metadata": {
    "collapsed": false
   },
   "outputs": [],
   "source": [
    "## Sort pheno dataframe and set rownames\n",
    "pheno = pheno[with(pheno, order(Mating, RIX_ID)),]\n",
    "rownames(pheno) = pheno$ID\n",
    "\n",
    "## Add sex column\n",
    "pheno$sex = 'M'"
   ]
  },
  {
   "cell_type": "code",
   "execution_count": null,
   "metadata": {
    "collapsed": false
   },
   "outputs": [],
   "source": [
    "## Correct the mismatched matings (shouldn't be necessary anymore)\n",
    "#pheno$Mating[pheno$Mating == '3609x5119'] = '3609x15119'\n",
    "#pheno$Mating[pheno$Mating == '8018x3154'] = '18018x3154'\n",
    "#pheno$Mating[pheno$Mating == '8036x18018'] = '8036x8018'\n",
    "#pheno$Mating[pheno$Mating == '16012x15119'] = '16012x5119'\n",
    "#pheno$Mating[pheno$Mating == '5119x8018'] = '15119x8018'\n",
    "#pheno$Mating[pheno$Mating == '8042x16513'] = '18042x16513'\n",
    "\n",
    "## Re-create IDs\n",
    "#pheno$ID = paste0(pheno$Mating, '_', pheno$RIX_ID)\n",
    "\n",
    "## Set rownames\n",
    "#rownames(pheno) = pheno$ID"
   ]
  },
  {
   "cell_type": "code",
   "execution_count": 6,
   "metadata": {
    "collapsed": true
   },
   "outputs": [],
   "source": [
    "## Create covariate dataframe (must include sex)\n",
    "covar = data.frame(sex = as.numeric(pheno$sex == 'M'))\n",
    "rownames(covar) = pheno$ID"
   ]
  },
  {
   "cell_type": "code",
   "execution_count": 7,
   "metadata": {
    "collapsed": true
   },
   "outputs": [],
   "source": [
    "## Get IDs and Matings for each sample\n",
    "samples = pheno$ID\n",
    "matings = unlist(lapply(strsplit(samples, '_'), function(x) {x[1]}))\n",
    "matings = unique(matings)"
   ]
  },
  {
   "cell_type": "markdown",
   "metadata": {},
   "source": [
    "## Step 4. Get Marker Probabilities for Each Sample"
   ]
  },
  {
   "cell_type": "code",
   "execution_count": 10,
   "metadata": {
    "collapsed": false
   },
   "outputs": [
    {
     "data": {
      "text/html": [
       "<table>\n",
       "<thead><tr><th></th><th scope=col>Mating</th><th scope=col>CC_Mating</th><th scope=col>UW_Line</th><th scope=col>A</th><th scope=col>B</th><th scope=col>C</th><th scope=col>D</th><th scope=col>E</th><th scope=col>F</th><th scope=col>G</th><th scope=col>H</th><th scope=col>CW_prob</th><th scope=col>P_prob</th><th scope=col>Null_prob</th><th scope=col>Oas1b_status</th><th scope=col>Oas1b</th><th scope=col>Oas1b_High</th><th scope=col>Oas1b_Mod</th><th scope=col>Oas1b_Low</th></tr></thead>\n",
       "<tbody>\n",
       "\t<tr><th scope=row>1</th><td>13067x16912</td><td>CC003xCC051</td><td>17         </td><td>1e-20      </td><td>1e-20      </td><td>1e-20      </td><td>1e-20      </td><td>0.5        </td><td>1e-20      </td><td>1e-20      </td><td>0.5        </td><td>0.5        </td><td>1e-20      </td><td>0.5        </td><td>High-Low   </td><td>High       </td><td>1          </td><td>0          </td><td>0          </td></tr>\n",
       "\t<tr><th scope=row>2</th><td>13067x5306  </td><td>CC003xCC062 </td><td>63          </td><td>1e-20       </td><td>1e-20       </td><td>1.995e-07   </td><td>0.4999998005</td><td>1e-20       </td><td>1e-20       </td><td>1e-20       </td><td>0.5         </td><td>0.5         </td><td>1e-20       </td><td>0.5         </td><td>High-Low    </td><td>High        </td><td>1           </td><td>0           </td><td>0           </td></tr>\n",
       "\t<tr><th scope=row>3</th><td>13140x16680</td><td>CC001xCC055</td><td>48         </td><td>1e-20      </td><td>0.5        </td><td>1e-20      </td><td>1e-20      </td><td>0.5        </td><td>1e-20      </td><td>1e-20      </td><td>1e-20      </td><td>2e-20      </td><td>1e-20      </td><td>1          </td><td>Low        </td><td>Low        </td><td>0          </td><td>0          </td><td>1          </td></tr>\n",
       "\t<tr><th scope=row>4</th><td>13140x3015 </td><td>CC001xCC074</td><td>2          </td><td>1e-20      </td><td>0.5        </td><td>0.5        </td><td>1e-20      </td><td>1e-20      </td><td>1e-20      </td><td>1e-20      </td><td>1e-20      </td><td>2e-20      </td><td>1e-20      </td><td>1          </td><td>Low        </td><td>Low        </td><td>0          </td><td>0          </td><td>1          </td></tr>\n",
       "\t<tr><th scope=row>5</th><td>13421x16034</td><td>CC007xCC070</td><td>78         </td><td>1e-20      </td><td>1e-20      </td><td>1.156e-06  </td><td>0.499998844</td><td>1e-20      </td><td>1e-20      </td><td>0.5        </td><td>1e-20      </td><td>2e-20      </td><td>0.5        </td><td>0.5        </td><td>Mod-Low    </td><td>Mod        </td><td>0          </td><td>1          </td><td>0          </td></tr>\n",
       "\t<tr><th scope=row>6</th><td>13421x16296 </td><td>CC007xCC049 </td><td>NA          </td><td>1e-20       </td><td>0.125       </td><td>1.2215e-06  </td><td>0.8749987785</td><td>1e-20       </td><td>1e-20       </td><td>1e-20       </td><td>1e-20       </td><td>2e-20       </td><td>1e-20       </td><td>1           </td><td>Low         </td><td>Low         </td><td>0           </td><td>0           </td><td>1           </td></tr>\n",
       "</tbody>\n",
       "</table>\n"
      ],
      "text/latex": [
       "\\begin{tabular}{r|lllllllllllllllllll}\n",
       "  & Mating & CC\\_Mating & UW\\_Line & A & B & C & D & E & F & G & H & CW\\_prob & P\\_prob & Null\\_prob & Oas1b\\_status & Oas1b & Oas1b\\_High & Oas1b\\_Mod & Oas1b\\_Low\\\\\n",
       "\\hline\n",
       "\t1 & 13067x16912 & CC003xCC051 & 17          & 1e-20       & 1e-20       & 1e-20       & 1e-20       & 0.5         & 1e-20       & 1e-20       & 0.5         & 0.5         & 1e-20       & 0.5         & High-Low    & High        & 1           & 0           & 0          \\\\\n",
       "\t2 & 13067x5306   & CC003xCC062  & 63           & 1e-20        & 1e-20        & 1.995e-07    & 0.4999998005 & 1e-20        & 1e-20        & 1e-20        & 0.5          & 0.5          & 1e-20        & 0.5          & High-Low     & High         & 1            & 0            & 0           \\\\\n",
       "\t3 & 13140x16680 & CC001xCC055 & 48          & 1e-20       & 0.5         & 1e-20       & 1e-20       & 0.5         & 1e-20       & 1e-20       & 1e-20       & 2e-20       & 1e-20       & 1           & Low         & Low         & 0           & 0           & 1          \\\\\n",
       "\t4 & 13140x3015  & CC001xCC074 & 2           & 1e-20       & 0.5         & 0.5         & 1e-20       & 1e-20       & 1e-20       & 1e-20       & 1e-20       & 2e-20       & 1e-20       & 1           & Low         & Low         & 0           & 0           & 1          \\\\\n",
       "\t5 & 13421x16034 & CC007xCC070 & 78          & 1e-20       & 1e-20       & 1.156e-06   & 0.499998844 & 1e-20       & 1e-20       & 0.5         & 1e-20       & 2e-20       & 0.5         & 0.5         & Mod-Low     & Mod         & 0           & 1           & 0          \\\\\n",
       "\t6 & 13421x16296  & CC007xCC049  & NA           & 1e-20        & 0.125        & 1.2215e-06   & 0.8749987785 & 1e-20        & 1e-20        & 1e-20        & 1e-20        & 2e-20        & 1e-20        & 1            & Low          & Low          & 0            & 0            & 1           \\\\\n",
       "\\end{tabular}\n"
      ],
      "text/plain": [
       "       Mating   CC_Mating UW_Line     A        B          C            D     E\n",
       "1 13067x16912 CC003xCC051      17 1e-20 1.00e-20 1.0000e-20 1.000000e-20 5e-01\n",
       "2  13067x5306 CC003xCC062      63 1e-20 1.00e-20 1.9950e-07 4.999998e-01 1e-20\n",
       "3 13140x16680 CC001xCC055      48 1e-20 5.00e-01 1.0000e-20 1.000000e-20 5e-01\n",
       "4  13140x3015 CC001xCC074       2 1e-20 5.00e-01 5.0000e-01 1.000000e-20 1e-20\n",
       "5 13421x16034 CC007xCC070      78 1e-20 1.00e-20 1.1560e-06 4.999988e-01 1e-20\n",
       "6 13421x16296 CC007xCC049      NA 1e-20 1.25e-01 1.2215e-06 8.749988e-01 1e-20\n",
       "      F     G     H CW_prob P_prob Null_prob Oas1b_status Oas1b Oas1b_High\n",
       "1 1e-20 1e-20 5e-01   5e-01  1e-20       0.5     High-Low  High          1\n",
       "2 1e-20 1e-20 5e-01   5e-01  1e-20       0.5     High-Low  High          1\n",
       "3 1e-20 1e-20 1e-20   2e-20  1e-20       1.0          Low   Low          0\n",
       "4 1e-20 1e-20 1e-20   2e-20  1e-20       1.0          Low   Low          0\n",
       "5 1e-20 5e-01 1e-20   2e-20  5e-01       0.5      Mod-Low   Mod          0\n",
       "6 1e-20 1e-20 1e-20   2e-20  1e-20       1.0          Low   Low          0\n",
       "  Oas1b_Mod Oas1b_Low\n",
       "1         0         0\n",
       "2         0         0\n",
       "3         0         1\n",
       "4         0         1\n",
       "5         1         0\n",
       "6         0         1"
      ]
     },
     "execution_count": 10,
     "metadata": {},
     "output_type": "execute_result"
    }
   ],
   "source": [
    "## Read strain ID mapping file (with Oas1b status for WNV mapping analyses)\n",
    "strain_map = read.delim(file.path('./data', 'Oas1b_status_recoded.txt'), header=T, as.is=T, sep='\\t')\n",
    "\n",
    "head(strain_map)"
   ]
  },
  {
   "cell_type": "code",
   "execution_count": 11,
   "metadata": {
    "collapsed": false
   },
   "outputs": [
    {
     "data": {
      "text/html": [],
      "text/latex": [],
      "text/markdown": [],
      "text/plain": [
       "character(0)"
      ]
     },
     "execution_count": 11,
     "metadata": {},
     "output_type": "execute_result"
    }
   ],
   "source": [
    "## Check that matings match the strain mapping file\n",
    "setdiff(matings, strain_map$Mating)"
   ]
  },
  {
   "cell_type": "code",
   "execution_count": 12,
   "metadata": {
    "collapsed": true
   },
   "outputs": [],
   "source": [
    "## Update covar with Oas1b\n",
    "covar$Mating = pheno$Mating\n",
    "covar$Oas1b = sapply(covar$Mating, function(x) {if (x %in% strain_map$Mating) strain_map$Oas1b[strain_map$Mating == x] else NA})\n",
    "covar$Oas1b_High = sapply(covar$Mating, function(x) {if (x %in% strain_map$Mating) strain_map$Oas1b_High[strain_map$Mating == x] else NA})\n",
    "covar$Oas1b_Mod = sapply(covar$Mating, function(x) {if (x %in% strain_map$Mating) strain_map$Oas1b_Mod[strain_map$Mating == x] else NA})\n",
    "covar$Oas1b_Low = sapply(covar$Mating, function(x) {if (x %in% strain_map$Mating) strain_map$Oas1b_Low[strain_map$Mating == x] else NA})\n",
    "pheno$Oas1b = covar$Oas1b\n",
    "pheno$Oas1b_High = covar$Oas1b_High\n",
    "pheno$Oas1b_Mod = covar$Oas1b_Mod\n",
    "pheno$Oas1b_Low = covar$Oas1b_Low"
   ]
  },
  {
   "cell_type": "markdown",
   "metadata": {},
   "source": [
    "## Step 5. Construct 3D Array of Probabilities"
   ]
  },
  {
   "cell_type": "code",
   "execution_count": 14,
   "metadata": {
    "collapsed": true
   },
   "outputs": [],
   "source": [
    "## Load universal model probabilities (loads a model.probs object containing all RIX lines)\n",
    "data_dir = './xdata'\n",
    "load(file.path(data_dir, 'rix_universal_model_prob_males_27-Jun-2016.rda'))"
   ]
  },
  {
   "cell_type": "code",
   "execution_count": 15,
   "metadata": {
    "collapsed": true
   },
   "outputs": [],
   "source": [
    "## Create custom model.probs array\n",
    "model.probs = model.probs[pheno$Mating, , ]\n",
    "dimnames(model.probs)[[1]] = pheno$ID"
   ]
  },
  {
   "cell_type": "code",
   "execution_count": 16,
   "metadata": {
    "collapsed": false
   },
   "outputs": [
    {
     "data": {
      "text/html": [
       "<ol class=list-inline>\n",
       "\t<li>158</li>\n",
       "\t<li>8</li>\n",
       "\t<li>76600</li>\n",
       "</ol>\n"
      ],
      "text/latex": [
       "\\begin{enumerate*}\n",
       "\\item 158\n",
       "\\item 8\n",
       "\\item 76600\n",
       "\\end{enumerate*}\n"
      ],
      "text/markdown": [
       "1. 158\n",
       "2. 8\n",
       "3. 76600\n",
       "\n",
       "\n"
      ],
      "text/plain": [
       "[1]   158     8 76600"
      ]
     },
     "execution_count": 16,
     "metadata": {},
     "output_type": "execute_result"
    },
    {
     "data": {
      "text/html": [
       "<ol class=list-inline>\n",
       "\t<li>'samples'</li>\n",
       "\t<li>'founders'</li>\n",
       "\t<li>'markers'</li>\n",
       "</ol>\n"
      ],
      "text/latex": [
       "\\begin{enumerate*}\n",
       "\\item 'samples'\n",
       "\\item 'founders'\n",
       "\\item 'markers'\n",
       "\\end{enumerate*}\n"
      ],
      "text/markdown": [
       "1. 'samples'\n",
       "2. 'founders'\n",
       "3. 'markers'\n",
       "\n",
       "\n"
      ],
      "text/plain": [
       "[1] \"samples\"  \"founders\" \"markers\" "
      ]
     },
     "execution_count": 16,
     "metadata": {},
     "output_type": "execute_result"
    },
    {
     "data": {
      "text/html": [
       "TRUE"
      ],
      "text/latex": [
       "TRUE"
      ],
      "text/markdown": [
       "TRUE"
      ],
      "text/plain": [
       "[1] TRUE"
      ]
     },
     "execution_count": 16,
     "metadata": {},
     "output_type": "execute_result"
    },
    {
     "data": {
      "text/html": [
       "<table>\n",
       "<thead><tr><th></th><th scope=col>UNC6</th><th scope=col>JAX00000010</th><th scope=col>JAX00240603</th><th scope=col>JAX00240610</th><th scope=col>JAX00240613</th></tr></thead>\n",
       "<tbody>\n",
       "\t<tr><th scope=row>A</th><td>6.00e-06</td><td>5.25e-06</td><td>4.50e-06</td><td>3.75e-06</td><td>3.00e-06</td></tr>\n",
       "\t<tr><th scope=row>B</th><td>0.4999962</td><td>0.4999970</td><td>0.4999977</td><td>0.4999981</td><td>0.4999985</td></tr>\n",
       "\t<tr><th scope=row>C</th><td>4.2e-08</td><td>1.0e-20</td><td>1.0e-20</td><td>1.0e-20</td><td>1.0e-20</td></tr>\n",
       "\t<tr><th scope=row>D</th><td>4.2e-08</td><td>1.0e-20</td><td>1.0e-20</td><td>1.0e-20</td><td>1.0e-20</td></tr>\n",
       "\t<tr><th scope=row>E</th><td>0.4999961</td><td>0.4999970</td><td>0.4999977</td><td>0.4999981</td><td>0.4999985</td></tr>\n",
       "\t<tr><th scope=row>F</th><td>4.2e-08</td><td>1.0e-20</td><td>1.0e-20</td><td>1.0e-20</td><td>1.0e-20</td></tr>\n",
       "\t<tr><th scope=row>G</th><td>4.2e-08</td><td>1.0e-20</td><td>1.0e-20</td><td>1.0e-20</td><td>1.0e-20</td></tr>\n",
       "\t<tr><th scope=row>H</th><td>1.50075e-06</td><td>7.50750e-07</td><td>7.50000e-10</td><td>7.50000e-10</td><td>1.00000e-20</td></tr>\n",
       "</tbody>\n",
       "</table>\n"
      ],
      "text/latex": [
       "\\begin{tabular}{r|lllll}\n",
       "  & UNC6 & JAX00000010 & JAX00240603 & JAX00240610 & JAX00240613\\\\\n",
       "\\hline\n",
       "\tA & 6.00e-06 & 5.25e-06 & 4.50e-06 & 3.75e-06 & 3.00e-06\\\\\n",
       "\tB & 0.4999962 & 0.4999970 & 0.4999977 & 0.4999981 & 0.4999985\\\\\n",
       "\tC & 4.2e-08 & 1.0e-20 & 1.0e-20 & 1.0e-20 & 1.0e-20\\\\\n",
       "\tD & 4.2e-08 & 1.0e-20 & 1.0e-20 & 1.0e-20 & 1.0e-20\\\\\n",
       "\tE & 0.4999961 & 0.4999970 & 0.4999977 & 0.4999981 & 0.4999985\\\\\n",
       "\tF & 4.2e-08 & 1.0e-20 & 1.0e-20 & 1.0e-20 & 1.0e-20\\\\\n",
       "\tG & 4.2e-08 & 1.0e-20 & 1.0e-20 & 1.0e-20 & 1.0e-20\\\\\n",
       "\tH & 1.50075e-06 & 7.50750e-07 & 7.50000e-10 & 7.50000e-10 & 1.00000e-20\\\\\n",
       "\\end{tabular}\n"
      ],
      "text/markdown": [
       "1. 6e-06\n",
       "2. 0.4999962495\n",
       "3. 4.2e-08\n",
       "4. 4.2e-08\n",
       "5. 0.49999608175\n",
       "6. 4.2e-08\n",
       "7. 4.2e-08\n",
       "8. 1.50075e-06\n",
       "9. 5.25e-06\n",
       "10. 0.49999699925\n",
       "11. 1e-20\n",
       "12. 1e-20\n",
       "13. 0.499997\n",
       "14. 1e-20\n",
       "15. 1e-20\n",
       "16. 7.5075e-07\n",
       "17. 4.5e-06\n",
       "18. 0.49999774925\n",
       "19. 1e-20\n",
       "20. 1e-20\n",
       "21. 0.49999775\n",
       "22. 1e-20\n",
       "23. 1e-20\n",
       "24. 7.5e-10\n",
       "25. 3.75e-06\n",
       "26. 0.49999812425\n",
       "27. 1e-20\n",
       "28. 1e-20\n",
       "29. 0.499998125\n",
       "30. 1e-20\n",
       "31. 1e-20\n",
       "32. 7.5e-10\n",
       "33. 3e-06\n",
       "34. 0.4999985\n",
       "35. 1e-20\n",
       "36. 1e-20\n",
       "37. 0.4999985\n",
       "38. 1e-20\n",
       "39. 1e-20\n",
       "40. 1e-20\n",
       "\n",
       "\n"
      ],
      "text/plain": [
       "        markers\n",
       "founders         UNC6 JAX00000010  JAX00240603  JAX00240610  JAX00240613\n",
       "       A 6.000000e-06 5.25000e-06 4.500000e-06 3.750000e-06 3.000000e-06\n",
       "       B 4.999962e-01 4.99997e-01 4.999977e-01 4.999981e-01 4.999985e-01\n",
       "       C 4.200000e-08 1.00000e-20 1.000000e-20 1.000000e-20 1.000000e-20\n",
       "       D 4.200000e-08 1.00000e-20 1.000000e-20 1.000000e-20 1.000000e-20\n",
       "       E 4.999961e-01 4.99997e-01 4.999977e-01 4.999981e-01 4.999985e-01\n",
       "       F 4.200000e-08 1.00000e-20 1.000000e-20 1.000000e-20 1.000000e-20\n",
       "       G 4.200000e-08 1.00000e-20 1.000000e-20 1.000000e-20 1.000000e-20\n",
       "       H 1.500750e-06 7.50750e-07 7.500000e-10 7.500000e-10 1.000000e-20"
      ]
     },
     "execution_count": 16,
     "metadata": {},
     "output_type": "execute_result"
    }
   ],
   "source": [
    "## Check model.probs object\n",
    "dim(model.probs)\n",
    "names(dimnames(model.probs))\n",
    "dim(model.probs)[1] == dim(pheno)[1]\n",
    "model.probs[1,,1:5]"
   ]
  },
  {
   "cell_type": "code",
   "execution_count": null,
   "metadata": {
    "collapsed": true
   },
   "outputs": [],
   "source": [
    "## Fix very small genotype probabilities\n",
    "model.probs[model.probs < 0.005] = 1e-20"
   ]
  },
  {
   "cell_type": "code",
   "execution_count": null,
   "metadata": {
    "collapsed": true
   },
   "outputs": [],
   "source": [
    "## Check model.probs object\n",
    "model.probs[1,,1:5]"
   ]
  },
  {
   "cell_type": "markdown",
   "metadata": {},
   "source": [
    "## Step 6. Calculate Kinship Matrix"
   ]
  },
  {
   "cell_type": "code",
   "execution_count": 17,
   "metadata": {
    "collapsed": false
   },
   "outputs": [
    {
     "name": "stdout",
     "output_type": "stream",
     "text": [
      "SNP 0\n",
      "SNP 1000\n",
      "SNP 2000\n",
      "SNP 3000\n",
      "SNP 4000\n",
      "SNP 5000\n",
      "SNP 6000\n",
      "SNP 7000\n",
      "SNP 8000\n",
      "SNP 9000\n",
      "SNP 10000\n",
      "SNP 11000\n",
      "SNP 12000\n",
      "SNP 13000\n",
      "SNP 14000\n",
      "SNP 15000\n",
      "SNP 16000\n",
      "SNP 17000\n",
      "SNP 18000\n",
      "SNP 19000\n",
      "SNP 20000\n",
      "SNP 21000\n",
      "SNP 22000\n",
      "SNP 23000\n",
      "SNP 24000\n",
      "SNP 25000\n",
      "SNP 26000\n",
      "SNP 27000\n",
      "SNP 28000\n",
      "SNP 29000\n",
      "SNP 30000\n",
      "SNP 31000\n",
      "SNP 32000\n",
      "SNP 33000\n",
      "SNP 34000\n",
      "SNP 35000\n",
      "SNP 36000\n",
      "SNP 37000\n",
      "SNP 38000\n",
      "SNP 39000\n",
      "SNP 40000\n",
      "SNP 41000\n",
      "SNP 42000\n",
      "SNP 43000\n",
      "SNP 44000\n",
      "SNP 45000\n",
      "SNP 46000\n",
      "SNP 47000\n",
      "SNP 48000\n",
      "SNP 49000\n",
      "SNP 50000\n",
      "SNP 51000\n",
      "SNP 52000\n",
      "SNP 53000\n",
      "SNP 54000\n",
      "SNP 55000\n",
      "SNP 56000\n",
      "SNP 57000\n",
      "SNP 58000\n",
      "SNP 59000\n",
      "SNP 60000\n",
      "SNP 61000\n",
      "SNP 62000\n",
      "SNP 63000\n",
      "SNP 64000\n",
      "SNP 65000\n",
      "SNP 66000\n",
      "SNP 67000\n",
      "SNP 68000\n",
      "SNP 69000\n",
      "SNP 70000\n",
      "SNP 71000\n",
      "SNP 72000\n",
      "SNP 73000\n",
      "SNP 74000\n",
      "SNP 75000\n",
      "SNP 76000\n"
     ]
    }
   ],
   "source": [
    "## Create kinship probability matrix\n",
    "K = kinship.probs(model.probs)"
   ]
  },
  {
   "cell_type": "code",
   "execution_count": 18,
   "metadata": {
    "collapsed": false
   },
   "outputs": [
    {
     "data": {
      "text/html": [
       "<table>\n",
       "<thead><tr><th></th><th scope=col>used</th><th scope=col>(Mb)</th><th scope=col>gc trigger</th><th scope=col>(Mb)</th><th scope=col>max used</th><th scope=col>(Mb)</th></tr></thead>\n",
       "<tbody>\n",
       "\t<tr><th scope=row>Ncells</th><td>4036993.0</td><td>    215.6</td><td>6861544.0</td><td>    366.5</td><td>5211120.0</td><td>    278.4</td></tr>\n",
       "\t<tr><th scope=row>Vcells</th><td> 99671586.0</td><td>      760.5</td><td>393992108.0</td><td>     3006.0</td><td>487229801.0</td><td>     3717.3</td></tr>\n",
       "</tbody>\n",
       "</table>\n"
      ],
      "text/latex": [
       "\\begin{tabular}{r|llllll}\n",
       "  & used & (Mb) & gc trigger & (Mb) & max used & (Mb)\\\\\n",
       "\\hline\n",
       "\tNcells & 4036993.0 &     215.6 & 6861544.0 &     366.5 & 5211120.0 &     278.4\\\\\n",
       "\tVcells &  99671586.0 &       760.5 & 393992108.0 &      3006.0 & 487229801.0 &      3717.3\\\\\n",
       "\\end{tabular}\n"
      ],
      "text/markdown": [
       "1. 4036993\n",
       "2. 99671586\n",
       "3. 215.6\n",
       "4. 760.5\n",
       "5. 6861544\n",
       "6. 393992108\n",
       "7. 366.5\n",
       "8. 3006\n",
       "9. 5211120\n",
       "10. 487229801\n",
       "11. 278.4\n",
       "12. 3717.3\n",
       "\n",
       "\n"
      ],
      "text/plain": [
       "           used  (Mb) gc trigger   (Mb)  max used   (Mb)\n",
       "Ncells  4036993 215.6    6861544  366.5   5211120  278.4\n",
       "Vcells 99671586 760.5  393992108 3006.0 487229801 3717.3"
      ]
     },
     "execution_count": 18,
     "metadata": {},
     "output_type": "execute_result"
    }
   ],
   "source": [
    "## Garbage collection might help free memory\n",
    "gc()"
   ]
  },
  {
   "cell_type": "code",
   "execution_count": 19,
   "metadata": {
    "collapsed": false
   },
   "outputs": [
    {
     "data": {
      "text/html": [
       "<table>\n",
       "<thead><tr><th></th><th scope=col>13067x16912_133</th><th scope=col>13067x16912_134</th><th scope=col>13067x16912_135</th><th scope=col>13067x5306_47</th><th scope=col>13067x5306_58</th></tr></thead>\n",
       "<tbody>\n",
       "\t<tr><th scope=row>13067x16912_133</th><td>1.0000000</td><td>1.0000000</td><td>1.0000000</td><td>0.5946484</td><td>0.5946484</td></tr>\n",
       "\t<tr><th scope=row>13067x16912_134</th><td>1.0000000</td><td>1.0000000</td><td>1.0000000</td><td>0.5946484</td><td>0.5946484</td></tr>\n",
       "\t<tr><th scope=row>13067x16912_135</th><td>1.0000000</td><td>1.0000000</td><td>1.0000000</td><td>0.5946484</td><td>0.5946484</td></tr>\n",
       "\t<tr><th scope=row>13067x5306_47</th><td>0.5946484</td><td>0.5946484</td><td>0.5946484</td><td>1.0000000</td><td>1.0000000</td></tr>\n",
       "\t<tr><th scope=row>13067x5306_58</th><td>0.5946484</td><td>0.5946484</td><td>0.5946484</td><td>1.0000000</td><td>1.0000000</td></tr>\n",
       "</tbody>\n",
       "</table>\n"
      ],
      "text/latex": [
       "\\begin{tabular}{r|lllll}\n",
       "  & 13067x16912\\_133 & 13067x16912\\_134 & 13067x16912\\_135 & 13067x5306\\_47 & 13067x5306\\_58\\\\\n",
       "\\hline\n",
       "\t13067x16912\\_133 & 1.0000000 & 1.0000000 & 1.0000000 & 0.5946484 & 0.5946484\\\\\n",
       "\t13067x16912\\_134 & 1.0000000 & 1.0000000 & 1.0000000 & 0.5946484 & 0.5946484\\\\\n",
       "\t13067x16912\\_135 & 1.0000000 & 1.0000000 & 1.0000000 & 0.5946484 & 0.5946484\\\\\n",
       "\t13067x5306\\_47 & 0.5946484 & 0.5946484 & 0.5946484 & 1.0000000 & 1.0000000\\\\\n",
       "\t13067x5306\\_58 & 0.5946484 & 0.5946484 & 0.5946484 & 1.0000000 & 1.0000000\\\\\n",
       "\\end{tabular}\n"
      ],
      "text/markdown": [
       "1. 1\n",
       "2. 1\n",
       "3. 1\n",
       "4. 0.594648443910328\n",
       "5. 0.594648443910328\n",
       "6. 1\n",
       "7. 1\n",
       "8. 1\n",
       "9. 0.594648443910328\n",
       "10. 0.594648443910328\n",
       "11. 1\n",
       "12. 1\n",
       "13. 1\n",
       "14. 0.594648443910328\n",
       "15. 0.594648443910328\n",
       "16. 0.594648443910328\n",
       "17. 0.594648443910328\n",
       "18. 0.594648443910328\n",
       "19. 1\n",
       "20. 1\n",
       "21. 0.594648443910328\n",
       "22. 0.594648443910328\n",
       "23. 0.594648443910328\n",
       "24. 1\n",
       "25. 1\n",
       "\n",
       "\n"
      ],
      "text/plain": [
       "                13067x16912_133 13067x16912_134 13067x16912_135 13067x5306_47\n",
       "13067x16912_133       1.0000000       1.0000000       1.0000000     0.5946484\n",
       "13067x16912_134       1.0000000       1.0000000       1.0000000     0.5946484\n",
       "13067x16912_135       1.0000000       1.0000000       1.0000000     0.5946484\n",
       "13067x5306_47         0.5946484       0.5946484       0.5946484     1.0000000\n",
       "13067x5306_58         0.5946484       0.5946484       0.5946484     1.0000000\n",
       "                13067x5306_58\n",
       "13067x16912_133     0.5946484\n",
       "13067x16912_134     0.5946484\n",
       "13067x16912_135     0.5946484\n",
       "13067x5306_47       1.0000000\n",
       "13067x5306_58       1.0000000"
      ]
     },
     "execution_count": 19,
     "metadata": {},
     "output_type": "execute_result"
    }
   ],
   "source": [
    "## Check kinship matrix\n",
    "K[1:5, 1:5]"
   ]
  },
  {
   "cell_type": "markdown",
   "metadata": {},
   "source": [
    "## Step 7. Perform QTL Scan"
   ]
  },
  {
   "cell_type": "code",
   "execution_count": 20,
   "metadata": {
    "collapsed": false
   },
   "outputs": [
    {
     "data": {
      "text/html": [
       "<table>\n",
       "<thead><tr><th></th><th scope=col>marker</th><th scope=col>chromosome</th><th scope=col>position.B38.</th><th scope=col>position_cM</th></tr></thead>\n",
       "<tbody>\n",
       "\t<tr><th scope=row>1</th><td>UNC6   </td><td>1      </td><td>3010274</td><td>NA     </td></tr>\n",
       "\t<tr><th scope=row>2</th><td>JAX00000010</td><td>1          </td><td>3135418    </td><td>NA         </td></tr>\n",
       "\t<tr><th scope=row>3</th><td>JAX00240603</td><td>1          </td><td>3252796    </td><td>NA         </td></tr>\n",
       "\t<tr><th scope=row>4</th><td>JAX00240610</td><td>1          </td><td>3266608    </td><td>NA         </td></tr>\n",
       "\t<tr><th scope=row>5</th><td>JAX00240613</td><td>1          </td><td>3323400    </td><td>NA         </td></tr>\n",
       "\t<tr><th scope=row>6</th><td>JAX00240636</td><td>1          </td><td>3389563    </td><td>NA         </td></tr>\n",
       "</tbody>\n",
       "</table>\n"
      ],
      "text/latex": [
       "\\begin{tabular}{r|llll}\n",
       "  & marker & chromosome & position.B38. & position\\_cM\\\\\n",
       "\\hline\n",
       "\t1 & UNC6    & 1       & 3010274 & NA     \\\\\n",
       "\t2 & JAX00000010 & 1           & 3135418     & NA         \\\\\n",
       "\t3 & JAX00240603 & 1           & 3252796     & NA         \\\\\n",
       "\t4 & JAX00240610 & 1           & 3266608     & NA         \\\\\n",
       "\t5 & JAX00240613 & 1           & 3323400     & NA         \\\\\n",
       "\t6 & JAX00240636 & 1           & 3389563     & NA         \\\\\n",
       "\\end{tabular}\n"
      ],
      "text/plain": [
       "       marker chromosome position.B38. position_cM\n",
       "1        UNC6          1       3010274          NA\n",
       "2 JAX00000010          1       3135418          NA\n",
       "3 JAX00240603          1       3252796          NA\n",
       "4 JAX00240610          1       3266608          NA\n",
       "5 JAX00240613          1       3323400          NA\n",
       "6 JAX00240636          1       3389563          NA"
      ]
     },
     "execution_count": 20,
     "metadata": {},
     "output_type": "execute_result"
    }
   ],
   "source": [
    "## First get marker positions\n",
    "marker_pos = read.csv(file.path(data_dir, 'CC001-Uncb38V01.csv'), as.is=T)\n",
    "marker_pos = marker_pos[,1:3]\n",
    "marker_pos$position_cM = NA\n",
    "head(marker_pos)"
   ]
  },
  {
   "cell_type": "code",
   "execution_count": 21,
   "metadata": {
    "collapsed": false
   },
   "outputs": [
    {
     "name": "stdout",
     "output_type": "stream",
     "text": [
      "[1] \"Mapping with 158 samples.\"\n",
      "[1] \"Mapping with 76600 markers.\"\n",
      "[1] \"dCt\"\n"
     ]
    }
   ],
   "source": [
    "## Run QTL scan\n",
    "qtl = scanone(pheno=pheno, pheno.col='dCt', probs=model.probs, K=K, \n",
    "              addcovar=covar[, c('sex'), drop=F], snps=marker_pos)"
   ]
  },
  {
   "cell_type": "code",
   "execution_count": 22,
   "metadata": {
    "collapsed": false
   },
   "outputs": [
    {
     "name": "stdout",
     "output_type": "stream",
     "text": [
      "[1] \"dCt\"\n",
      "[1] \"1 of 10\"\n",
      "[1] \"2 of 10\"\n",
      "[1] \"3 of 10\"\n",
      "[1] \"4 of 10\"\n",
      "[1] \"5 of 10\"\n",
      "[1] \"6 of 10\"\n",
      "[1] \"7 of 10\"\n",
      "[1] \"8 of 10\"\n",
      "[1] \"9 of 10\"\n",
      "[1] \"10 of 10\"\n"
     ]
    }
   ],
   "source": [
    "## Run permutations to calculate significance threshold\n",
    "## Note: nperm=10 for demonstration purposes only. Normally, at least 1000 permutations should be done.\n",
    "perms = scanone.perm(pheno=pheno, pheno.col='dCt', probs=model.probs, \n",
    "                     addcovar=covar[, c('sex'), drop=F], snps=marker_pos, nperm = 10)"
   ]
  },
  {
   "cell_type": "code",
   "execution_count": 23,
   "metadata": {
    "collapsed": false
   },
   "outputs": [
    {
     "data": {
      "text/html": [
       "<strong>95%:</strong> 9.03261443190462"
      ],
      "text/latex": [
       "\\textbf{95\\textbackslash{}\\%:} 9.03261443190462"
      ],
      "text/markdown": [
       "**95%:** 9.03261443190462"
      ],
      "text/plain": [
       "     95% \n",
       "9.032614 "
      ]
     },
     "execution_count": 23,
     "metadata": {},
     "output_type": "execute_result"
    }
   ],
   "source": [
    "thr = quantile(perms, probs = 0.95)\n",
    "thr"
   ]
  },
  {
   "cell_type": "code",
   "execution_count": 27,
   "metadata": {
    "collapsed": false
   },
   "outputs": [
    {
     "data": {
      "image/png": "[encoded data removed]",
      "text/plain": [
       "Plot with title “Day 12 Brain WNV dCt”"
      ]
     },
     "metadata": {
      "image/svg+xml": {
       "isolated": true
      }
     },
     "output_type": "display_data"
    }
   ],
   "source": [
    "## Plot QTL results\n",
    "plot(qtl, sig.thr = thr, main = 'Day 12 Brain WNV dCt')\n",
    "abline(h=quantile(perms, probs = 0.90), lty=2, col='red')"
   ]
  },
  {
   "cell_type": "markdown",
   "metadata": {},
   "source": [
    "## Step 8. Identify QTL Intervals"
   ]
  },
  {
   "cell_type": "code",
   "execution_count": 28,
   "metadata": {
    "collapsed": false
   },
   "outputs": [
    {
     "data": {
      "text/html": [
       "<table>\n",
       "<thead><tr><th></th><th scope=col>marker</th><th scope=col>chromosome</th><th scope=col>position.B38.</th><th scope=col>position_cM</th><th scope=col>perc.var</th><th scope=col>lrs</th><th scope=col>lod</th><th scope=col>p</th><th scope=col>neg.log10.p</th></tr></thead>\n",
       "<tbody>\n",
       "\t<tr><th scope=row>23173</th><td>UNC10027338         </td><td>5                   </td><td>119.898431          </td><td>NA                  </td><td>19.758938           </td><td>34.7813             </td><td>7.55266337783703    </td><td>1.22940866759537e-05</td><td>4.91030372933492    </td></tr>\n",
       "\t<tr><th scope=row>23255</th><td>UNC10043432         </td><td>5                   </td><td>121.263782          </td><td>NA                  </td><td>22.453782           </td><td>40.178779           </td><td>8.72471095794802    </td><td>1.16339706775978e-06</td><td>5.9342720351374     </td></tr>\n",
       "\t<tr><th scope=row>23291</th><td>UNC10062151         </td><td>5                   </td><td>122.900748          </td><td>NA                  </td><td>18.063093           </td><td>31.476864           </td><td>6.83511416481982    </td><td>5.07631993283242e-05</td><td>4.29445101449594    </td></tr>\n",
       "</tbody>\n",
       "</table>\n"
      ],
      "text/latex": [
       "\\begin{tabular}{r|lllllllll}\n",
       "  & marker & chromosome & position.B38. & position\\_cM & perc.var & lrs & lod & p & neg.log10.p\\\\\n",
       "\\hline\n",
       "\t23173 & UNC10027338          & 5                    & 119.898431           & NA                   & 19.758938            & 34.7813              & 7.55266337783703     & 1.22940866759537e-05 & 4.91030372933492    \\\\\n",
       "\t23255 & UNC10043432          & 5                    & 121.263782           & NA                   & 22.453782            & 40.178779            & 8.72471095794802     & 1.16339706775978e-06 & 5.9342720351374     \\\\\n",
       "\t23291 & UNC10062151          & 5                    & 122.900748           & NA                   & 18.063093            & 31.476864            & 6.83511416481982     & 5.07631993283242e-05 & 4.29445101449594    \\\\\n",
       "\\end{tabular}\n"
      ],
      "text/plain": [
       "           marker chromosome position.B38. position_cM perc.var      lrs\n",
       "23173 UNC10027338          5      119.8984          NA 19.75894 34.78130\n",
       "23255 UNC10043432          5      121.2638          NA 22.45378 40.17878\n",
       "23291 UNC10062151          5      122.9007          NA 18.06309 31.47686\n",
       "           lod            p neg.log10.p\n",
       "23173 7.552663 1.229409e-05    4.910304\n",
       "23255 8.724711 1.163397e-06    5.934272\n",
       "23291 6.835114 5.076320e-05    4.294451"
      ]
     },
     "execution_count": 28,
     "metadata": {},
     "output_type": "execute_result"
    }
   ],
   "source": [
    "## Identify the Bayes Credible Interval for the peak on chromosome 5\n",
    "interval = bayesint_v2(qtl, chr = 5)\n",
    "interval"
   ]
  },
  {
   "cell_type": "code",
   "execution_count": 29,
   "metadata": {
    "collapsed": false
   },
   "outputs": [
    {
     "data": {
      "image/png": "[encoded data removed]",
      "text/plain": [
       "plot without title"
      ]
     },
     "metadata": {
      "image/svg+xml": {
       "isolated": true
      }
     },
     "output_type": "display_data"
    }
   ],
   "source": [
    "coefplot_v2(qtl, chr=5, start=interval[1,3], end=interval[3,3])"
   ]
  },
  {
   "cell_type": "code",
   "execution_count": 30,
   "metadata": {
    "collapsed": false
   },
   "outputs": [
    {
     "data": {
      "text/html": [
       "<table>\n",
       "<thead><tr><th></th><th scope=col>marker</th><th scope=col>chromosome</th><th scope=col>position.B38.</th><th scope=col>position_cM</th><th scope=col>perc.var</th><th scope=col>lrs</th><th scope=col>lod</th><th scope=col>p</th><th scope=col>neg.log10.p</th></tr></thead>\n",
       "<tbody>\n",
       "\t<tr><th scope=row>23255</th><td>UNC10043432         </td><td>5                   </td><td>121.263782          </td><td>NA                  </td><td>22.4537821680971    </td><td>40.1787787849058    </td><td>8.72471095794802    </td><td>1.16339706775978e-06</td><td>5.9342720351374     </td></tr>\n",
       "</tbody>\n",
       "</table>\n"
      ],
      "text/latex": [
       "\\begin{tabular}{r|lllllllll}\n",
       "  & marker & chromosome & position.B38. & position\\_cM & perc.var & lrs & lod & p & neg.log10.p\\\\\n",
       "\\hline\n",
       "\t23255 & UNC10043432          & 5                    & 121.263782           & NA                   & 22.4537821680971     & 40.1787787849058     & 8.72471095794802     & 1.16339706775978e-06 & 5.9342720351374     \\\\\n",
       "\\end{tabular}\n"
      ],
      "text/plain": [
       "           marker chromosome position.B38. position_cM perc.var      lrs\n",
       "23255 UNC10043432          5      121.2638          NA 22.45378 40.17878\n",
       "           lod            p neg.log10.p\n",
       "23255 8.724711 1.163397e-06    5.934272"
      ]
     },
     "execution_count": 30,
     "metadata": {},
     "output_type": "execute_result"
    }
   ],
   "source": [
    "## Get marker at peak\n",
    "get_min_marker(qtl, chr=5)"
   ]
  },
  {
   "cell_type": "code",
   "execution_count": 31,
   "metadata": {
    "collapsed": false
   },
   "outputs": [
    {
     "data": {
      "image/png": "[encoded data removed]",
      "text/plain": [
       "plot without title"
      ]
     },
     "metadata": {
      "image/svg+xml": {
       "isolated": true
      }
     },
     "output_type": "display_data"
    }
   ],
   "source": [
    "## Create probability plot\n",
    "prob.plot(pheno, 'dCt', model.probs, 'UNC10043432')"
   ]
  }
 ],
 "metadata": {
  "kernelspec": {
   "display_name": "R",
   "language": "R",
   "name": "ir"
  },
  "language_info": {
   "codemirror_mode": "r",
   "file_extension": ".r",
   "mimetype": "text/x-r-source",
   "name": "R",
   "pygments_lexer": "r",
   "version": "3.2.2"
  }
 },
 "nbformat": 4,
 "nbformat_minor": 0
}
